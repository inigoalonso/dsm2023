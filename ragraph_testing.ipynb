{
 "cells": [
  {
   "cell_type": "code",
   "execution_count": 9,
   "metadata": {},
   "outputs": [],
   "source": [
    "from ragraph.graph import Graph\n",
    "from ragraph.node import Node\n",
    "from ragraph.edge import Edge\n",
    "import numpy as np\n",
    "import pandas as pd"
   ]
  },
  {
   "cell_type": "code",
   "execution_count": 27,
   "metadata": {},
   "outputs": [],
   "source": [
    "g = Graph()"
   ]
  },
  {
   "cell_type": "code",
   "execution_count": 28,
   "metadata": {},
   "outputs": [],
   "source": [
    "df_components = pd.read_csv(\"data/components.csv\", sep=\";\", decimal=\",\")"
   ]
  },
  {
   "cell_type": "code",
   "execution_count": 32,
   "metadata": {},
   "outputs": [
    {
     "name": "stdout",
     "output_type": "stream",
     "text": [
      "['s2', 's2', 's3']\n",
      "['s2', 's2', 's3']\n",
      "['s2', 's2', 's3']\n",
      "['s2', 's2', 's3']\n",
      "['s2', 's2', 's3']\n",
      "['s2', 's2', 's3']\n",
      "['s2', 's2', 's3']\n",
      "['s2', 's2', 's3']\n",
      "['s2', 's2', 's3']\n",
      "['s2', 's2', 's3']\n",
      "['s2', 's2', 's3']\n",
      "['s2', 's2', 's3']\n",
      "['s2', 's2', 's3']\n",
      "['s2', 's2', 's3']\n",
      "['s2', 's2', 's3']\n",
      "['s2', 's2', 's3']\n",
      "['s2', 's2', 's3']\n",
      "['s2', 's2', 's3']\n",
      "['s2', 's2', 's3']\n",
      "['s2', 's2', 's3']\n",
      "['s2', 's2']\n",
      "['s2', 's2']\n",
      "['s2', 's2']\n",
      "['s2', 's2']\n",
      "['s2', 's2']\n",
      "['s2', 's2']\n",
      "['s2', 's2']\n",
      "['s2', 's2']\n",
      "['s2', 's2']\n",
      "['s2', 's2']\n",
      "['s2', 's2']\n",
      "['s2', 's2']\n",
      "['s2', 's2']\n",
      "['s2', 's2']\n",
      "['s2', 's2']\n",
      "['s2', 's2']\n",
      "['s2', 's2']\n",
      "['s2', 's2']\n",
      "['s2', 's2']\n",
      "['s2', 's2']\n",
      "['s2', 's2']\n",
      "['s2', 's2']\n",
      "['s2', 's2', 's3']\n",
      "['s2', 's2', 's3']\n",
      "['s2', 's2', 's3']\n",
      "['s2', 's2', 's3']\n",
      "['s2', 's2', 's3']\n",
      "['s2', 's2', 's3']\n",
      "['s2', 's2', 's3']\n",
      "['s2', 's2', 's3']\n",
      "['s2', 's2', 's3']\n",
      "['s2', 's2', 's3']\n",
      "['s2', 's2', 's3']\n",
      "['s2', 's2', 's3']\n",
      "['s2', 's2', 's3']\n",
      "['s2', 's2', 's3']\n",
      "['s3']\n",
      "['s3']\n",
      "['s3']\n",
      "['s3']\n",
      "['s3']\n",
      "['s3']\n"
     ]
    }
   ],
   "source": [
    "for component in df_components.iterrows():\n",
    "    labels = [s for s in [\"s2\", \"s2\", \"s3\"] if component[1][s] == True]\n",
    "    fancy_node = Node(\n",
    "        name=component[1][\"name\"],\n",
    "        kind=\"component\",\n",
    "        labels=labels,\n",
    "        weights={\n",
    "            \"x\": component[1][\"x\"],\n",
    "            \"y\": component[1][\"y\"],\n",
    "            \"z\": component[1][\"z\"],\n",
    "            \"force_e\": component[1][\"force_e\"],\n",
    "            \"force_t\": component[1][\"force_t\"],\n",
    "            \"force_r\": component[1][\"force_r\"],\n",
    "            \"electro_e\": component[1][\"electro_e\"],\n",
    "            \"electro_t\": component[1][\"electro_t\"],\n",
    "            \"electro_r\": component[1][\"electro_r\"],\n",
    "            \"thermo_e\": component[1][\"thermo_e\"],\n",
    "            \"thermo_t\": component[1][\"thermo_t\"],\n",
    "            \"thermo_r\": component[1][\"thermo_r\"],\n",
    "        },\n",
    "        annotations={\n",
    "            \"id\": component[1][\"id\"],\n",
    "            },\n",
    "    )\n",
    "    #g.add_node(fancy_node)\n",
    "\n"
   ]
  },
  {
   "cell_type": "code",
   "execution_count": null,
   "metadata": {},
   "outputs": [],
   "source": []
  }
 ],
 "metadata": {
  "kernelspec": {
   "display_name": "Python 3",
   "language": "python",
   "name": "python3"
  },
  "language_info": {
   "codemirror_mode": {
    "name": "ipython",
    "version": 3
   },
   "file_extension": ".py",
   "mimetype": "text/x-python",
   "name": "python",
   "nbconvert_exporter": "python",
   "pygments_lexer": "ipython3",
   "version": "3.11.5"
  },
  "orig_nbformat": 4
 },
 "nbformat": 4,
 "nbformat_minor": 2
}
