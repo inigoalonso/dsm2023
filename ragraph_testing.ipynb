{
 "cells": [
  {
   "cell_type": "code",
   "execution_count": 1,
   "metadata": {},
   "outputs": [],
   "source": [
    "from ragraph.graph import Graph\n",
    "from ragraph.node import Node\n",
    "from ragraph.edge import Edge\n",
    "from ragraph import plot\n",
    "import pandas as pd\n"
   ]
  },
  {
   "cell_type": "code",
   "execution_count": 2,
   "metadata": {},
   "outputs": [],
   "source": [
    "df_components = pd.read_csv(\"data/components.csv\", sep=\";\", decimal=\",\")"
   ]
  },
  {
   "cell_type": "code",
   "execution_count": 3,
   "metadata": {},
   "outputs": [],
   "source": [
    "g = Graph()\n",
    "\n",
    "for component in df_components.iterrows():\n",
    "    labels = [s for s in [\"s2\", \"s2\", \"s3\"] if component[1][s] == True]\n",
    "    fancy_node = Node(\n",
    "        name=component[1][\"name\"],\n",
    "        kind=\"component\",\n",
    "        labels=labels,\n",
    "        weights={\n",
    "            \"x\": component[1][\"x\"],\n",
    "            \"y\": component[1][\"y\"],\n",
    "            \"z\": component[1][\"z\"],\n",
    "            \"force_e\": component[1][\"force_e\"],\n",
    "            \"force_t\": component[1][\"force_t\"],\n",
    "            \"force_r\": component[1][\"force_r\"],\n",
    "            \"electro_e\": component[1][\"electro_e\"],\n",
    "            \"electro_t\": component[1][\"electro_t\"],\n",
    "            \"electro_r\": component[1][\"electro_r\"],\n",
    "            \"thermo_e\": component[1][\"thermo_e\"],\n",
    "            \"thermo_t\": component[1][\"thermo_t\"],\n",
    "            \"thermo_r\": component[1][\"thermo_r\"],\n",
    "        },\n",
    "        annotations={\n",
    "            \"id\": component[1][\"id\"],\n",
    "            },\n",
    "    )\n",
    "    g.add_node(fancy_node)\n",
    "\n"
   ]
  },
  {
   "cell_type": "code",
   "execution_count": 4,
   "metadata": {},
   "outputs": [],
   "source": [
    "df_dsm = pd.read_csv(\"data/dsm.csv\", sep=\";\", header=None, decimal=\",\").fillna(0)\n",
    "df_distances = pd.read_csv(\"data/distances.csv\", sep=\";\", header=None, decimal=\",\").fillna(0)"
   ]
  },
  {
   "cell_type": "code",
   "execution_count": 5,
   "metadata": {},
   "outputs": [],
   "source": [
    "kinds = {\n",
    "    \"M\": \"mechanical\",\n",
    "    \"E\": \"electrical\",\n",
    "    \"I\": \"information\",\n",
    "    \"H\": \"hydraulic\",\n",
    "}\n",
    "\n",
    "for i, row in df_dsm.iterrows():\n",
    "    for j, value in enumerate(row):\n",
    "        if value in kinds.keys():\n",
    "            kind = kinds[value]\n",
    "        else:\n",
    "            continue\n",
    "        g.add_edge(Edge(\n",
    "            source=g.nodes[i], \n",
    "            target=g.nodes[j], \n",
    "            name=f'{g.nodes[i].annotations[\"id\"]}_{g.nodes[j].annotations[\"id\"]}',\n",
    "            kind=kind,\n",
    "            labels=[],\n",
    "            weights={\n",
    "                \"distance\": df_distances.iloc[i, j],\n",
    "            },\n",
    "            annotations={},\n",
    "        ))\n"
   ]
  },
  {
   "cell_type": "code",
   "execution_count": 6,
   "metadata": {},
   "outputs": [
    {
     "data": {
      "application/vnd.plotly.v1+json": {
       "config": {
        "displayModeBar": true,
        "displaylogo": false,
        "modeBarButtonsToRemove": [
         "zoom2d",
         "zoomIn2d",
         "zoomOut2d",
         "resetScale2d",
         "toggleSpikelines",
         "pan2d",
         "autoScale2d",
         "hoverClosestCartesian",
         "hoverCompareCartesian"
        ],
        "plotlyServerURL": "https://plot.ly"
       },
       "data": [
        {
         "hoverinfo": "skip",
         "marker": {
          "color": "#FFFFFF",
          "line": {
           "color": "#FFFFFF"
          }
         },
         "mode": "markers",
         "showlegend": false,
         "type": "scatter",
         "x": [
          0.5
         ],
         "xaxis": "x",
         "y": [
          0.5
         ],
         "yaxis": "y"
        },
        {
         "hoverinfo": "skip",
         "marker": {
          "color": "#FFFFFF",
          "line": {
           "color": "#FFFFFF"
          }
         },
         "mode": "markers",
         "showlegend": false,
         "type": "scatter",
         "x": [
          0.5
         ],
         "xaxis": "x2",
         "y": [
          0.5
         ],
         "yaxis": "y2"
        },
        {
         "hoverinfo": "skip",
         "marker": {
          "color": "#FFFFFF",
          "line": {
           "color": "#FFFFFF"
          }
         },
         "mode": "markers",
         "showlegend": false,
         "type": "scatter",
         "x": [
          0.5
         ],
         "xaxis": "x3",
         "y": [
          0.5
         ],
         "yaxis": "y3"
        },
        {
         "hoverinfo": "skip",
         "marker": {
          "color": "#FFFFFF",
          "line": {
           "color": "#FFFFFF"
          }
         },
         "mode": "markers",
         "showlegend": false,
         "type": "scatter",
         "x": [
          0.5
         ],
         "xaxis": "x5",
         "y": [
          0.5
         ],
         "yaxis": "y5"
        },
        {
         "customdata": [
          {
           "data": "Wheel front axle ",
           "pointtype": "tree_node"
          },
          {
           "data": "Hub front axle ",
           "pointtype": "tree_node"
          },
          {
           "data": "Steering knuckle front axle",
           "pointtype": "tree_node"
          },
          {
           "data": "Knuckle arm front axle ",
           "pointtype": "tree_node"
          },
          {
           "data": "Frame front axle ",
           "pointtype": "tree_node"
          },
          {
           "data": "Tie rod front axle",
           "pointtype": "tree_node"
          },
          {
           "data": "Angle sensor front axle",
           "pointtype": "tree_node"
          },
          {
           "data": "Speedometer",
           "pointtype": "tree_node"
          },
          {
           "data": "ECU",
           "pointtype": "tree_node"
          },
          {
           "data": "Engine ",
           "pointtype": "tree_node"
          },
          {
           "data": "Hydraulic oil reservoir",
           "pointtype": "tree_node"
          },
          {
           "data": "Steering actuation cylinder front axle ",
           "pointtype": "tree_node"
          },
          {
           "data": "Servo valve front axle ",
           "pointtype": "tree_node"
          },
          {
           "data": "Pump front axle ",
           "pointtype": "tree_node"
          },
          {
           "data": "Filter front axle ",
           "pointtype": "tree_node"
          },
          {
           "data": "Cooler front axle ",
           "pointtype": "tree_node"
          },
          {
           "data": "Steering actuation cylinder second axle ",
           "pointtype": "tree_node"
          },
          {
           "data": "Servo valve second axle ",
           "pointtype": "tree_node"
          },
          {
           "data": "Pump second axle ",
           "pointtype": "tree_node"
          },
          {
           "data": "Filter second axle ",
           "pointtype": "tree_node"
          },
          {
           "data": "Cooler second axle ",
           "pointtype": "tree_node"
          },
          {
           "data": "Wheel second axle ",
           "pointtype": "tree_node"
          },
          {
           "data": "Hub second axle ",
           "pointtype": "tree_node"
          },
          {
           "data": "Steering knuckle second axle",
           "pointtype": "tree_node"
          },
          {
           "data": "Knuckle arm second axle ",
           "pointtype": "tree_node"
          },
          {
           "data": "Frame second axle ",
           "pointtype": "tree_node"
          },
          {
           "data": "Tie rod second axle",
           "pointtype": "tree_node"
          },
          {
           "data": "Angle sensor second axle",
           "pointtype": "tree_node"
          },
          {
           "data": "Electric steering motor front axle ",
           "pointtype": "tree_node"
          },
          {
           "data": "Electric steering motor second axle ",
           "pointtype": "tree_node"
          },
          {
           "data": "Battery Box",
           "pointtype": "tree_node"
          }
         ],
         "hoverinfo": "text",
         "marker": {
          "color": "gray"
         },
         "mode": "markers",
         "showlegend": false,
         "text": [
          "Wheel front axle ",
          "Hub front axle ",
          "Steering knuckle front axle",
          "Knuckle arm front axle ",
          "Frame front axle ",
          "Tie rod front axle",
          "Angle sensor front axle",
          "Speedometer",
          "ECU",
          "Engine ",
          "Hydraulic oil reservoir",
          "Steering actuation cylinder front axle ",
          "Servo valve front axle ",
          "Pump front axle ",
          "Filter front axle ",
          "Cooler front axle ",
          "Steering actuation cylinder second axle ",
          "Servo valve second axle ",
          "Pump second axle ",
          "Filter second axle ",
          "Cooler second axle ",
          "Wheel second axle ",
          "Hub second axle ",
          "Steering knuckle second axle",
          "Knuckle arm second axle ",
          "Frame second axle ",
          "Tie rod second axle",
          "Angle sensor second axle",
          "Electric steering motor front axle ",
          "Electric steering motor second axle ",
          "Battery Box"
         ],
         "type": "scatter",
         "x": [
          0,
          0,
          0,
          0,
          0,
          0,
          0,
          0,
          0,
          0,
          0,
          0,
          0,
          0,
          0,
          0,
          0,
          0,
          0,
          0,
          0,
          0,
          0,
          0,
          0,
          0,
          0,
          0,
          0,
          0,
          0
         ],
         "xaxis": "x6",
         "y": [
          30.5,
          29.5,
          28.5,
          27.5,
          26.5,
          25.5,
          24.5,
          23.5,
          22.5,
          21.5,
          20.5,
          19.5,
          18.5,
          17.5,
          16.5,
          15.5,
          14.5,
          13.5,
          12.5,
          11.5,
          10.5,
          9.5,
          8.5,
          7.5,
          6.5,
          5.5,
          4.5,
          3.5,
          2.5,
          1.5,
          0.5
         ],
         "yaxis": "y6"
        },
        {
         "customdata": [
          {
           "source": "Wheel front axle ",
           "target": "Hub front axle "
          }
         ],
         "hoverinfo": "text",
         "marker": {
          "color": "#ffffff"
         },
         "mode": "markers",
         "showlegend": false,
         "text": [
          "source: Wheel front axle <br>target: Hub front axle <br>mechanical: 1.0"
         ],
         "type": "scatter",
         "x": [
          0.6414213562373096
         ],
         "xaxis": "x9",
         "y": [
          29.64142135623731
         ],
         "yaxis": "y9"
        },
        {
         "customdata": [
          {
           "source": "Hub front axle ",
           "target": "Wheel front axle "
          }
         ],
         "hoverinfo": "text",
         "marker": {
          "color": "#ffffff"
         },
         "mode": "markers",
         "showlegend": false,
         "text": [
          "source: Hub front axle <br>target: Wheel front axle <br>mechanical: 1.0"
         ],
         "type": "scatter",
         "x": [
          1.6414213562373094
         ],
         "xaxis": "x9",
         "y": [
          30.64142135623731
         ],
         "yaxis": "y9"
        },
        {
         "customdata": [
          {
           "source": "Hub front axle ",
           "target": "Steering knuckle front axle"
          }
         ],
         "hoverinfo": "text",
         "marker": {
          "color": "#ffffff"
         },
         "mode": "markers",
         "showlegend": false,
         "text": [
          "source: Hub front axle <br>target: Steering knuckle front axle<br>mechanical: 1.0"
         ],
         "type": "scatter",
         "x": [
          1.6414213562373094
         ],
         "xaxis": "x9",
         "y": [
          28.64142135623731
         ],
         "yaxis": "y9"
        },
        {
         "customdata": [
          {
           "source": "Steering knuckle front axle",
           "target": "Hub front axle "
          }
         ],
         "hoverinfo": "text",
         "marker": {
          "color": "#ffffff"
         },
         "mode": "markers",
         "showlegend": false,
         "text": [
          "source: Steering knuckle front axle<br>target: Hub front axle <br>mechanical: 1.0"
         ],
         "type": "scatter",
         "x": [
          2.6414213562373097
         ],
         "xaxis": "x9",
         "y": [
          29.64142135623731
         ],
         "yaxis": "y9"
        },
        {
         "customdata": [
          {
           "source": "Steering knuckle front axle",
           "target": "Knuckle arm front axle "
          }
         ],
         "hoverinfo": "text",
         "marker": {
          "color": "#ffffff"
         },
         "mode": "markers",
         "showlegend": false,
         "text": [
          "source: Steering knuckle front axle<br>target: Knuckle arm front axle <br>mechanical: 1.0"
         ],
         "type": "scatter",
         "x": [
          2.6414213562373097
         ],
         "xaxis": "x9",
         "y": [
          27.64142135623731
         ],
         "yaxis": "y9"
        },
        {
         "customdata": [
          {
           "source": "Steering knuckle front axle",
           "target": "Frame front axle "
          }
         ],
         "hoverinfo": "text",
         "marker": {
          "color": "#ffffff"
         },
         "mode": "markers",
         "showlegend": false,
         "text": [
          "source: Steering knuckle front axle<br>target: Frame front axle <br>mechanical: 1.0"
         ],
         "type": "scatter",
         "x": [
          2.6414213562373097
         ],
         "xaxis": "x9",
         "y": [
          26.64142135623731
         ],
         "yaxis": "y9"
        },
        {
         "customdata": [
          {
           "source": "Steering knuckle front axle",
           "target": "Angle sensor front axle"
          }
         ],
         "hoverinfo": "text",
         "marker": {
          "color": "#ffffff"
         },
         "mode": "markers",
         "showlegend": false,
         "text": [
          "source: Steering knuckle front axle<br>target: Angle sensor front axle<br>mechanical: 1.0"
         ],
         "type": "scatter",
         "x": [
          2.6414213562373097
         ],
         "xaxis": "x9",
         "y": [
          24.64142135623731
         ],
         "yaxis": "y9"
        },
        {
         "customdata": [
          {
           "source": "Knuckle arm front axle ",
           "target": "Steering knuckle front axle"
          }
         ],
         "hoverinfo": "text",
         "marker": {
          "color": "#ffffff"
         },
         "mode": "markers",
         "showlegend": false,
         "text": [
          "source: Knuckle arm front axle <br>target: Steering knuckle front axle<br>mechanical: 1.0"
         ],
         "type": "scatter",
         "x": [
          3.6414213562373097
         ],
         "xaxis": "x9",
         "y": [
          28.64142135623731
         ],
         "yaxis": "y9"
        },
        {
         "customdata": [
          {
           "source": "Knuckle arm front axle ",
           "target": "Frame front axle "
          }
         ],
         "hoverinfo": "text",
         "marker": {
          "color": "#ffffff"
         },
         "mode": "markers",
         "showlegend": false,
         "text": [
          "source: Knuckle arm front axle <br>target: Frame front axle <br>mechanical: 1.0"
         ],
         "type": "scatter",
         "x": [
          3.6414213562373097
         ],
         "xaxis": "x9",
         "y": [
          26.64142135623731
         ],
         "yaxis": "y9"
        },
        {
         "customdata": [
          {
           "source": "Knuckle arm front axle ",
           "target": "Tie rod front axle"
          }
         ],
         "hoverinfo": "text",
         "marker": {
          "color": "#ffffff"
         },
         "mode": "markers",
         "showlegend": false,
         "text": [
          "source: Knuckle arm front axle <br>target: Tie rod front axle<br>mechanical: 1.0"
         ],
         "type": "scatter",
         "x": [
          3.6414213562373097
         ],
         "xaxis": "x9",
         "y": [
          25.64142135623731
         ],
         "yaxis": "y9"
        },
        {
         "customdata": [
          {
           "source": "Knuckle arm front axle ",
           "target": "Steering actuation cylinder front axle "
          }
         ],
         "hoverinfo": "text",
         "marker": {
          "color": "#ffffff"
         },
         "mode": "markers",
         "showlegend": false,
         "text": [
          "source: Knuckle arm front axle <br>target: Steering actuation cylinder front axle <br>mechanical: 1.0"
         ],
         "type": "scatter",
         "x": [
          3.6414213562373097
         ],
         "xaxis": "x9",
         "y": [
          19.64142135623731
         ],
         "yaxis": "y9"
        },
        {
         "customdata": [
          {
           "source": "Frame front axle ",
           "target": "Steering knuckle front axle"
          }
         ],
         "hoverinfo": "text",
         "marker": {
          "color": "#ffffff"
         },
         "mode": "markers",
         "showlegend": false,
         "text": [
          "source: Frame front axle <br>target: Steering knuckle front axle<br>mechanical: 1.0"
         ],
         "type": "scatter",
         "x": [
          4.641421356237309
         ],
         "xaxis": "x9",
         "y": [
          28.64142135623731
         ],
         "yaxis": "y9"
        },
        {
         "customdata": [
          {
           "source": "Frame front axle ",
           "target": "Knuckle arm front axle "
          }
         ],
         "hoverinfo": "text",
         "marker": {
          "color": "#ffffff"
         },
         "mode": "markers",
         "showlegend": false,
         "text": [
          "source: Frame front axle <br>target: Knuckle arm front axle <br>mechanical: 1.0"
         ],
         "type": "scatter",
         "x": [
          4.641421356237309
         ],
         "xaxis": "x9",
         "y": [
          27.64142135623731
         ],
         "yaxis": "y9"
        },
        {
         "customdata": [
          {
           "source": "Tie rod front axle",
           "target": "Knuckle arm front axle "
          }
         ],
         "hoverinfo": "text",
         "marker": {
          "color": "#ffffff"
         },
         "mode": "markers",
         "showlegend": false,
         "text": [
          "source: Tie rod front axle<br>target: Knuckle arm front axle <br>mechanical: 1.0"
         ],
         "type": "scatter",
         "x": [
          5.641421356237309
         ],
         "xaxis": "x9",
         "y": [
          27.64142135623731
         ],
         "yaxis": "y9"
        },
        {
         "customdata": [
          {
           "source": "Tie rod front axle",
           "target": "Electric steering motor front axle "
          }
         ],
         "hoverinfo": "text",
         "marker": {
          "color": "#ffffff"
         },
         "mode": "markers",
         "showlegend": false,
         "text": [
          "source: Tie rod front axle<br>target: Electric steering motor front axle <br>mechanical: 1.0"
         ],
         "type": "scatter",
         "x": [
          5.641421356237309
         ],
         "xaxis": "x9",
         "y": [
          2.6414213562373097
         ],
         "yaxis": "y9"
        },
        {
         "customdata": [
          {
           "source": "Angle sensor front axle",
           "target": "Steering knuckle front axle"
          }
         ],
         "hoverinfo": "text",
         "marker": {
          "color": "#ffffff"
         },
         "mode": "markers",
         "showlegend": false,
         "text": [
          "source: Angle sensor front axle<br>target: Steering knuckle front axle<br>mechanical: 1.0"
         ],
         "type": "scatter",
         "x": [
          6.641421356237309
         ],
         "xaxis": "x9",
         "y": [
          28.64142135623731
         ],
         "yaxis": "y9"
        },
        {
         "customdata": [
          {
           "source": "Angle sensor front axle",
           "target": "ECU"
          }
         ],
         "hoverinfo": "text",
         "marker": {
          "color": "#ffffff"
         },
         "mode": "markers",
         "showlegend": false,
         "text": [
          "source: Angle sensor front axle<br>target: ECU<br>information: 1.0"
         ],
         "type": "scatter",
         "x": [
          6.358578643762691
         ],
         "xaxis": "x9",
         "y": [
          22.35857864376269
         ],
         "yaxis": "y9"
        },
        {
         "customdata": [
          {
           "source": "Speedometer",
           "target": "ECU"
          }
         ],
         "hoverinfo": "text",
         "marker": {
          "color": "#ffffff"
         },
         "mode": "markers",
         "showlegend": false,
         "text": [
          "source: Speedometer<br>target: ECU<br>information: 1.0"
         ],
         "type": "scatter",
         "x": [
          7.358578643762691
         ],
         "xaxis": "x9",
         "y": [
          22.35857864376269
         ],
         "yaxis": "y9"
        },
        {
         "customdata": [
          {
           "source": "ECU",
           "target": "Servo valve front axle "
          }
         ],
         "hoverinfo": "text",
         "marker": {
          "color": "#ffffff"
         },
         "mode": "markers",
         "showlegend": false,
         "text": [
          "source: ECU<br>target: Servo valve front axle <br>electrical: 1.0"
         ],
         "type": "scatter",
         "x": [
          8.64142135623731
         ],
         "xaxis": "x9",
         "y": [
          18.35857864376269
         ],
         "yaxis": "y9"
        },
        {
         "customdata": [
          {
           "source": "ECU",
           "target": "Servo valve second axle "
          }
         ],
         "hoverinfo": "text",
         "marker": {
          "color": "#ffffff"
         },
         "mode": "markers",
         "showlegend": false,
         "text": [
          "source: ECU<br>target: Servo valve second axle <br>electrical: 1.0"
         ],
         "type": "scatter",
         "x": [
          8.64142135623731
         ],
         "xaxis": "x9",
         "y": [
          13.35857864376269
         ],
         "yaxis": "y9"
        },
        {
         "customdata": [
          {
           "source": "ECU",
           "target": "Electric steering motor front axle "
          }
         ],
         "hoverinfo": "text",
         "marker": {
          "color": "#ffffff"
         },
         "mode": "markers",
         "showlegend": false,
         "text": [
          "source: ECU<br>target: Electric steering motor front axle <br>electrical: 1.0"
         ],
         "type": "scatter",
         "x": [
          8.64142135623731
         ],
         "xaxis": "x9",
         "y": [
          2.3585786437626903
         ],
         "yaxis": "y9"
        },
        {
         "customdata": [
          {
           "source": "ECU",
           "target": "Electric steering motor second axle "
          }
         ],
         "hoverinfo": "text",
         "marker": {
          "color": "#ffffff"
         },
         "mode": "markers",
         "showlegend": false,
         "text": [
          "source: ECU<br>target: Electric steering motor second axle <br>electrical: 1.0"
         ],
         "type": "scatter",
         "x": [
          8.64142135623731
         ],
         "xaxis": "x9",
         "y": [
          1.3585786437626906
         ],
         "yaxis": "y9"
        },
        {
         "customdata": [
          {
           "source": "Engine ",
           "target": "ECU"
          }
         ],
         "hoverinfo": "text",
         "marker": {
          "color": "#ffffff"
         },
         "mode": "markers",
         "showlegend": false,
         "text": [
          "source: Engine <br>target: ECU<br>electrical: 1.0"
         ],
         "type": "scatter",
         "x": [
          9.64142135623731
         ],
         "xaxis": "x9",
         "y": [
          22.35857864376269
         ],
         "yaxis": "y9"
        },
        {
         "customdata": [
          {
           "source": "Hydraulic oil reservoir",
           "target": "Pump front axle "
          }
         ],
         "hoverinfo": "text",
         "marker": {
          "color": "#ffffff"
         },
         "mode": "markers",
         "showlegend": false,
         "text": [
          "source: Hydraulic oil reservoir<br>target: Pump front axle <br>hydraulic: 1.0"
         ],
         "type": "scatter",
         "x": [
          10.35857864376269
         ],
         "xaxis": "x9",
         "y": [
          17.64142135623731
         ],
         "yaxis": "y9"
        },
        {
         "customdata": [
          {
           "source": "Hydraulic oil reservoir",
           "target": "Pump second axle "
          }
         ],
         "hoverinfo": "text",
         "marker": {
          "color": "#ffffff"
         },
         "mode": "markers",
         "showlegend": false,
         "text": [
          "source: Hydraulic oil reservoir<br>target: Pump second axle <br>hydraulic: 1.0"
         ],
         "type": "scatter",
         "x": [
          10.35857864376269
         ],
         "xaxis": "x9",
         "y": [
          12.64142135623731
         ],
         "yaxis": "y9"
        },
        {
         "customdata": [
          {
           "source": "Steering actuation cylinder front axle ",
           "target": "Knuckle arm front axle "
          }
         ],
         "hoverinfo": "text",
         "marker": {
          "color": "#ffffff"
         },
         "mode": "markers",
         "showlegend": false,
         "text": [
          "source: Steering actuation cylinder front axle <br>target: Knuckle arm front axle <br>mechanical: 1.0"
         ],
         "type": "scatter",
         "x": [
          11.64142135623731
         ],
         "xaxis": "x9",
         "y": [
          27.64142135623731
         ],
         "yaxis": "y9"
        },
        {
         "customdata": [
          {
           "source": "Steering actuation cylinder front axle ",
           "target": "Servo valve front axle "
          }
         ],
         "hoverinfo": "text",
         "marker": {
          "color": "#ffffff"
         },
         "mode": "markers",
         "showlegend": false,
         "text": [
          "source: Steering actuation cylinder front axle <br>target: Servo valve front axle <br>hydraulic: 1.0"
         ],
         "type": "scatter",
         "x": [
          11.35857864376269
         ],
         "xaxis": "x9",
         "y": [
          18.64142135623731
         ],
         "yaxis": "y9"
        },
        {
         "customdata": [
          {
           "source": "Servo valve front axle ",
           "target": "Steering actuation cylinder front axle "
          }
         ],
         "hoverinfo": "text",
         "marker": {
          "color": "#ffffff"
         },
         "mode": "markers",
         "showlegend": false,
         "text": [
          "source: Servo valve front axle <br>target: Steering actuation cylinder front axle <br>hydraulic: 1.0"
         ],
         "type": "scatter",
         "x": [
          12.35857864376269
         ],
         "xaxis": "x9",
         "y": [
          19.64142135623731
         ],
         "yaxis": "y9"
        },
        {
         "customdata": [
          {
           "source": "Servo valve front axle ",
           "target": "Filter front axle "
          }
         ],
         "hoverinfo": "text",
         "marker": {
          "color": "#ffffff"
         },
         "mode": "markers",
         "showlegend": false,
         "text": [
          "source: Servo valve front axle <br>target: Filter front axle <br>hydraulic: 1.0"
         ],
         "type": "scatter",
         "x": [
          12.35857864376269
         ],
         "xaxis": "x9",
         "y": [
          16.64142135623731
         ],
         "yaxis": "y9"
        },
        {
         "customdata": [
          {
           "source": "Pump front axle ",
           "target": "Servo valve front axle "
          }
         ],
         "hoverinfo": "text",
         "marker": {
          "color": "#ffffff"
         },
         "mode": "markers",
         "showlegend": false,
         "text": [
          "source: Pump front axle <br>target: Servo valve front axle <br>hydraulic: 1.0"
         ],
         "type": "scatter",
         "x": [
          13.35857864376269
         ],
         "xaxis": "x9",
         "y": [
          18.64142135623731
         ],
         "yaxis": "y9"
        },
        {
         "customdata": [
          {
           "source": "Filter front axle ",
           "target": "Cooler front axle "
          }
         ],
         "hoverinfo": "text",
         "marker": {
          "color": "#ffffff"
         },
         "mode": "markers",
         "showlegend": false,
         "text": [
          "source: Filter front axle <br>target: Cooler front axle <br>hydraulic: 1.0"
         ],
         "type": "scatter",
         "x": [
          14.35857864376269
         ],
         "xaxis": "x9",
         "y": [
          15.64142135623731
         ],
         "yaxis": "y9"
        },
        {
         "customdata": [
          {
           "source": "Cooler front axle ",
           "target": "Hydraulic oil reservoir"
          }
         ],
         "hoverinfo": "text",
         "marker": {
          "color": "#ffffff"
         },
         "mode": "markers",
         "showlegend": false,
         "text": [
          "source: Cooler front axle <br>target: Hydraulic oil reservoir<br>hydraulic: 1.0"
         ],
         "type": "scatter",
         "x": [
          15.35857864376269
         ],
         "xaxis": "x9",
         "y": [
          20.64142135623731
         ],
         "yaxis": "y9"
        },
        {
         "customdata": [
          {
           "source": "Steering actuation cylinder second axle ",
           "target": "Servo valve second axle "
          }
         ],
         "hoverinfo": "text",
         "marker": {
          "color": "#ffffff"
         },
         "mode": "markers",
         "showlegend": false,
         "text": [
          "source: Steering actuation cylinder second axle <br>target: Servo valve second axle <br>hydraulic: 1.0"
         ],
         "type": "scatter",
         "x": [
          16.35857864376269
         ],
         "xaxis": "x9",
         "y": [
          13.64142135623731
         ],
         "yaxis": "y9"
        },
        {
         "customdata": [
          {
           "source": "Steering actuation cylinder second axle ",
           "target": "Knuckle arm second axle "
          }
         ],
         "hoverinfo": "text",
         "marker": {
          "color": "#ffffff"
         },
         "mode": "markers",
         "showlegend": false,
         "text": [
          "source: Steering actuation cylinder second axle <br>target: Knuckle arm second axle <br>mechanical: 1.0"
         ],
         "type": "scatter",
         "x": [
          16.64142135623731
         ],
         "xaxis": "x9",
         "y": [
          6.641421356237309
         ],
         "yaxis": "y9"
        },
        {
         "customdata": [
          {
           "source": "Servo valve second axle ",
           "target": "Steering actuation cylinder second axle "
          }
         ],
         "hoverinfo": "text",
         "marker": {
          "color": "#ffffff"
         },
         "mode": "markers",
         "showlegend": false,
         "text": [
          "source: Servo valve second axle <br>target: Steering actuation cylinder second axle <br>hydraulic: 1.0"
         ],
         "type": "scatter",
         "x": [
          17.35857864376269
         ],
         "xaxis": "x9",
         "y": [
          14.64142135623731
         ],
         "yaxis": "y9"
        },
        {
         "customdata": [
          {
           "source": "Servo valve second axle ",
           "target": "Filter second axle "
          }
         ],
         "hoverinfo": "text",
         "marker": {
          "color": "#ffffff"
         },
         "mode": "markers",
         "showlegend": false,
         "text": [
          "source: Servo valve second axle <br>target: Filter second axle <br>hydraulic: 1.0"
         ],
         "type": "scatter",
         "x": [
          17.35857864376269
         ],
         "xaxis": "x9",
         "y": [
          11.64142135623731
         ],
         "yaxis": "y9"
        },
        {
         "customdata": [
          {
           "source": "Pump second axle ",
           "target": "Servo valve second axle "
          }
         ],
         "hoverinfo": "text",
         "marker": {
          "color": "#ffffff"
         },
         "mode": "markers",
         "showlegend": false,
         "text": [
          "source: Pump second axle <br>target: Servo valve second axle <br>hydraulic: 1.0"
         ],
         "type": "scatter",
         "x": [
          18.35857864376269
         ],
         "xaxis": "x9",
         "y": [
          13.64142135623731
         ],
         "yaxis": "y9"
        },
        {
         "customdata": [
          {
           "source": "Filter second axle ",
           "target": "Cooler second axle "
          }
         ],
         "hoverinfo": "text",
         "marker": {
          "color": "#ffffff"
         },
         "mode": "markers",
         "showlegend": false,
         "text": [
          "source: Filter second axle <br>target: Cooler second axle <br>hydraulic: 1.0"
         ],
         "type": "scatter",
         "x": [
          19.35857864376269
         ],
         "xaxis": "x9",
         "y": [
          10.64142135623731
         ],
         "yaxis": "y9"
        },
        {
         "customdata": [
          {
           "source": "Cooler second axle ",
           "target": "Hydraulic oil reservoir"
          }
         ],
         "hoverinfo": "text",
         "marker": {
          "color": "#ffffff"
         },
         "mode": "markers",
         "showlegend": false,
         "text": [
          "source: Cooler second axle <br>target: Hydraulic oil reservoir<br>hydraulic: 1.0"
         ],
         "type": "scatter",
         "x": [
          20.35857864376269
         ],
         "xaxis": "x9",
         "y": [
          20.64142135623731
         ],
         "yaxis": "y9"
        },
        {
         "customdata": [
          {
           "source": "Wheel second axle ",
           "target": "Hub second axle "
          }
         ],
         "hoverinfo": "text",
         "marker": {
          "color": "#ffffff"
         },
         "mode": "markers",
         "showlegend": false,
         "text": [
          "source: Wheel second axle <br>target: Hub second axle <br>mechanical: 1.0"
         ],
         "type": "scatter",
         "x": [
          21.64142135623731
         ],
         "xaxis": "x9",
         "y": [
          8.64142135623731
         ],
         "yaxis": "y9"
        },
        {
         "customdata": [
          {
           "source": "Hub second axle ",
           "target": "Wheel second axle "
          }
         ],
         "hoverinfo": "text",
         "marker": {
          "color": "#ffffff"
         },
         "mode": "markers",
         "showlegend": false,
         "text": [
          "source: Hub second axle <br>target: Wheel second axle <br>mechanical: 1.0"
         ],
         "type": "scatter",
         "x": [
          22.64142135623731
         ],
         "xaxis": "x9",
         "y": [
          9.64142135623731
         ],
         "yaxis": "y9"
        },
        {
         "customdata": [
          {
           "source": "Hub second axle ",
           "target": "Steering knuckle second axle"
          }
         ],
         "hoverinfo": "text",
         "marker": {
          "color": "#ffffff"
         },
         "mode": "markers",
         "showlegend": false,
         "text": [
          "source: Hub second axle <br>target: Steering knuckle second axle<br>mechanical: 1.0"
         ],
         "type": "scatter",
         "x": [
          22.64142135623731
         ],
         "xaxis": "x9",
         "y": [
          7.641421356237309
         ],
         "yaxis": "y9"
        },
        {
         "customdata": [
          {
           "source": "Steering knuckle second axle",
           "target": "Hub second axle "
          }
         ],
         "hoverinfo": "text",
         "marker": {
          "color": "#ffffff"
         },
         "mode": "markers",
         "showlegend": false,
         "text": [
          "source: Steering knuckle second axle<br>target: Hub second axle <br>mechanical: 1.0"
         ],
         "type": "scatter",
         "x": [
          23.64142135623731
         ],
         "xaxis": "x9",
         "y": [
          8.64142135623731
         ],
         "yaxis": "y9"
        },
        {
         "customdata": [
          {
           "source": "Steering knuckle second axle",
           "target": "Knuckle arm second axle "
          }
         ],
         "hoverinfo": "text",
         "marker": {
          "color": "#ffffff"
         },
         "mode": "markers",
         "showlegend": false,
         "text": [
          "source: Steering knuckle second axle<br>target: Knuckle arm second axle <br>mechanical: 1.0"
         ],
         "type": "scatter",
         "x": [
          23.64142135623731
         ],
         "xaxis": "x9",
         "y": [
          6.641421356237309
         ],
         "yaxis": "y9"
        },
        {
         "customdata": [
          {
           "source": "Steering knuckle second axle",
           "target": "Frame second axle "
          }
         ],
         "hoverinfo": "text",
         "marker": {
          "color": "#ffffff"
         },
         "mode": "markers",
         "showlegend": false,
         "text": [
          "source: Steering knuckle second axle<br>target: Frame second axle <br>mechanical: 1.0"
         ],
         "type": "scatter",
         "x": [
          23.64142135623731
         ],
         "xaxis": "x9",
         "y": [
          5.641421356237309
         ],
         "yaxis": "y9"
        },
        {
         "customdata": [
          {
           "source": "Steering knuckle second axle",
           "target": "Angle sensor second axle"
          }
         ],
         "hoverinfo": "text",
         "marker": {
          "color": "#ffffff"
         },
         "mode": "markers",
         "showlegend": false,
         "text": [
          "source: Steering knuckle second axle<br>target: Angle sensor second axle<br>mechanical: 1.0"
         ],
         "type": "scatter",
         "x": [
          23.64142135623731
         ],
         "xaxis": "x9",
         "y": [
          3.6414213562373097
         ],
         "yaxis": "y9"
        },
        {
         "customdata": [
          {
           "source": "Knuckle arm second axle ",
           "target": "Steering actuation cylinder second axle "
          }
         ],
         "hoverinfo": "text",
         "marker": {
          "color": "#ffffff"
         },
         "mode": "markers",
         "showlegend": false,
         "text": [
          "source: Knuckle arm second axle <br>target: Steering actuation cylinder second axle <br>mechanical: 1.0"
         ],
         "type": "scatter",
         "x": [
          24.64142135623731
         ],
         "xaxis": "x9",
         "y": [
          14.64142135623731
         ],
         "yaxis": "y9"
        },
        {
         "customdata": [
          {
           "source": "Knuckle arm second axle ",
           "target": "Steering knuckle second axle"
          }
         ],
         "hoverinfo": "text",
         "marker": {
          "color": "#ffffff"
         },
         "mode": "markers",
         "showlegend": false,
         "text": [
          "source: Knuckle arm second axle <br>target: Steering knuckle second axle<br>mechanical: 1.0"
         ],
         "type": "scatter",
         "x": [
          24.64142135623731
         ],
         "xaxis": "x9",
         "y": [
          7.641421356237309
         ],
         "yaxis": "y9"
        },
        {
         "customdata": [
          {
           "source": "Knuckle arm second axle ",
           "target": "Frame second axle "
          }
         ],
         "hoverinfo": "text",
         "marker": {
          "color": "#ffffff"
         },
         "mode": "markers",
         "showlegend": false,
         "text": [
          "source: Knuckle arm second axle <br>target: Frame second axle <br>mechanical: 1.0"
         ],
         "type": "scatter",
         "x": [
          24.64142135623731
         ],
         "xaxis": "x9",
         "y": [
          5.641421356237309
         ],
         "yaxis": "y9"
        },
        {
         "customdata": [
          {
           "source": "Knuckle arm second axle ",
           "target": "Tie rod second axle"
          }
         ],
         "hoverinfo": "text",
         "marker": {
          "color": "#ffffff"
         },
         "mode": "markers",
         "showlegend": false,
         "text": [
          "source: Knuckle arm second axle <br>target: Tie rod second axle<br>mechanical: 1.0"
         ],
         "type": "scatter",
         "x": [
          24.64142135623731
         ],
         "xaxis": "x9",
         "y": [
          4.641421356237309
         ],
         "yaxis": "y9"
        },
        {
         "customdata": [
          {
           "source": "Frame second axle ",
           "target": "Steering knuckle second axle"
          }
         ],
         "hoverinfo": "text",
         "marker": {
          "color": "#ffffff"
         },
         "mode": "markers",
         "showlegend": false,
         "text": [
          "source: Frame second axle <br>target: Steering knuckle second axle<br>mechanical: 1.0"
         ],
         "type": "scatter",
         "x": [
          25.64142135623731
         ],
         "xaxis": "x9",
         "y": [
          7.641421356237309
         ],
         "yaxis": "y9"
        },
        {
         "customdata": [
          {
           "source": "Frame second axle ",
           "target": "Knuckle arm second axle "
          }
         ],
         "hoverinfo": "text",
         "marker": {
          "color": "#ffffff"
         },
         "mode": "markers",
         "showlegend": false,
         "text": [
          "source: Frame second axle <br>target: Knuckle arm second axle <br>mechanical: 1.0"
         ],
         "type": "scatter",
         "x": [
          25.64142135623731
         ],
         "xaxis": "x9",
         "y": [
          6.641421356237309
         ],
         "yaxis": "y9"
        },
        {
         "customdata": [
          {
           "source": "Tie rod second axle",
           "target": "Knuckle arm second axle "
          }
         ],
         "hoverinfo": "text",
         "marker": {
          "color": "#ffffff"
         },
         "mode": "markers",
         "showlegend": false,
         "text": [
          "source: Tie rod second axle<br>target: Knuckle arm second axle <br>mechanical: 1.0"
         ],
         "type": "scatter",
         "x": [
          26.64142135623731
         ],
         "xaxis": "x9",
         "y": [
          6.641421356237309
         ],
         "yaxis": "y9"
        },
        {
         "customdata": [
          {
           "source": "Tie rod second axle",
           "target": "Electric steering motor second axle "
          }
         ],
         "hoverinfo": "text",
         "marker": {
          "color": "#ffffff"
         },
         "mode": "markers",
         "showlegend": false,
         "text": [
          "source: Tie rod second axle<br>target: Electric steering motor second axle <br>mechanical: 1.0"
         ],
         "type": "scatter",
         "x": [
          26.64142135623731
         ],
         "xaxis": "x9",
         "y": [
          1.6414213562373094
         ],
         "yaxis": "y9"
        },
        {
         "customdata": [
          {
           "source": "Angle sensor second axle",
           "target": "ECU"
          }
         ],
         "hoverinfo": "text",
         "marker": {
          "color": "#ffffff"
         },
         "mode": "markers",
         "showlegend": false,
         "text": [
          "source: Angle sensor second axle<br>target: ECU<br>information: 1.0"
         ],
         "type": "scatter",
         "x": [
          27.35857864376269
         ],
         "xaxis": "x9",
         "y": [
          22.35857864376269
         ],
         "yaxis": "y9"
        },
        {
         "customdata": [
          {
           "source": "Angle sensor second axle",
           "target": "Steering knuckle second axle"
          }
         ],
         "hoverinfo": "text",
         "marker": {
          "color": "#ffffff"
         },
         "mode": "markers",
         "showlegend": false,
         "text": [
          "source: Angle sensor second axle<br>target: Steering knuckle second axle<br>mechanical: 1.0"
         ],
         "type": "scatter",
         "x": [
          27.64142135623731
         ],
         "xaxis": "x9",
         "y": [
          7.641421356237309
         ],
         "yaxis": "y9"
        },
        {
         "customdata": [
          {
           "source": "Electric steering motor front axle ",
           "target": "Tie rod front axle"
          }
         ],
         "hoverinfo": "text",
         "marker": {
          "color": "#ffffff"
         },
         "mode": "markers",
         "showlegend": false,
         "text": [
          "source: Electric steering motor front axle <br>target: Tie rod front axle<br>mechanical: 1.0"
         ],
         "type": "scatter",
         "x": [
          28.64142135623731
         ],
         "xaxis": "x9",
         "y": [
          25.64142135623731
         ],
         "yaxis": "y9"
        },
        {
         "customdata": [
          {
           "source": "Electric steering motor second axle ",
           "target": "Tie rod second axle"
          }
         ],
         "hoverinfo": "text",
         "marker": {
          "color": "#ffffff"
         },
         "mode": "markers",
         "showlegend": false,
         "text": [
          "source: Electric steering motor second axle <br>target: Tie rod second axle<br>mechanical: 1.0"
         ],
         "type": "scatter",
         "x": [
          29.64142135623731
         ],
         "xaxis": "x9",
         "y": [
          4.641421356237309
         ],
         "yaxis": "y9"
        },
        {
         "customdata": [
          {
           "source": "Battery Box",
           "target": "ECU"
          }
         ],
         "hoverinfo": "text",
         "marker": {
          "color": "#ffffff"
         },
         "mode": "markers",
         "showlegend": false,
         "text": [
          "source: Battery Box<br>target: ECU<br>electrical: 1.0"
         ],
         "type": "scatter",
         "x": [
          30.64142135623731
         ],
         "xaxis": "x9",
         "y": [
          22.35857864376269
         ],
         "yaxis": "y9"
        },
        {
         "customdata": [
          {
           "source": "Battery Box",
           "target": "Electric steering motor front axle "
          }
         ],
         "hoverinfo": "text",
         "marker": {
          "color": "#ffffff"
         },
         "mode": "markers",
         "showlegend": false,
         "text": [
          "source: Battery Box<br>target: Electric steering motor front axle <br>electrical: 1.0"
         ],
         "type": "scatter",
         "x": [
          30.64142135623731
         ],
         "xaxis": "x9",
         "y": [
          2.3585786437626903
         ],
         "yaxis": "y9"
        },
        {
         "customdata": [
          {
           "source": "Battery Box",
           "target": "Electric steering motor second axle "
          }
         ],
         "hoverinfo": "text",
         "marker": {
          "color": "#ffffff"
         },
         "mode": "markers",
         "showlegend": false,
         "text": [
          "source: Battery Box<br>target: Electric steering motor second axle <br>electrical: 1.0"
         ],
         "type": "scatter",
         "x": [
          30.64142135623731
         ],
         "xaxis": "x9",
         "y": [
          1.3585786437626906
         ],
         "yaxis": "y9"
        },
        {
         "hoverinfo": "text",
         "marker": {
          "color": "#de9c38"
         },
         "mode": "markers",
         "showlegend": false,
         "text": [
          "mechanical"
         ],
         "type": "scatter",
         "x": [
          0.5
         ],
         "xaxis": "x10",
         "y": [
          3.5
         ],
         "yaxis": "y10"
        },
        {
         "hoverinfo": "text",
         "marker": {
          "color": "#a64747"
         },
         "mode": "markers",
         "showlegend": false,
         "text": [
          "electrical"
         ],
         "type": "scatter",
         "x": [
          0.5
         ],
         "xaxis": "x10",
         "y": [
          2.5
         ],
         "yaxis": "y10"
        },
        {
         "hoverinfo": "text",
         "marker": {
          "color": "#545a8e"
         },
         "mode": "markers",
         "showlegend": false,
         "text": [
          "information"
         ],
         "type": "scatter",
         "x": [
          0.5
         ],
         "xaxis": "x10",
         "y": [
          1.5
         ],
         "yaxis": "y10"
        },
        {
         "hoverinfo": "text",
         "marker": {
          "color": "#389dfc"
         },
         "mode": "markers",
         "showlegend": false,
         "text": [
          "hydraulic"
         ],
         "type": "scatter",
         "x": [
          0.5
         ],
         "xaxis": "x10",
         "y": [
          0.5
         ],
         "yaxis": "y10"
        },
        {
         "hoverinfo": "text",
         "mode": "text",
         "showlegend": false,
         "text": [
          "mechanical",
          "electrical",
          "information",
          "hydraulic"
         ],
         "textfont": {
          "color": "black",
          "family": "Hack,Courier New,monospace",
          "size": 12
         },
         "textposition": "middle right",
         "type": "scatter",
         "x": [
          1,
          1,
          1,
          1
         ],
         "xaxis": "x10",
         "y": [
          3.5,
          2.5,
          1.5,
          0.5
         ],
         "yaxis": "y10"
        }
       ],
       "layout": {
        "annotations": [
         {
          "font": {
           "color": "black",
           "family": "Hack,Courier New,monospace",
           "size": 12
          },
          "showarrow": false,
          "text": "1",
          "textangle": -90,
          "x": 0.5,
          "xref": "x4",
          "y": -0.5103,
          "yanchor": "bottom",
          "yref": "y",
          "yshift": 0
         },
         {
          "font": {
           "color": "black",
           "family": "Hack,Courier New,monospace",
           "size": 12
          },
          "showarrow": false,
          "text": "2",
          "textangle": -90,
          "x": 1.5,
          "xref": "x4",
          "y": -0.5103,
          "yanchor": "bottom",
          "yref": "y",
          "yshift": 0
         },
         {
          "font": {
           "color": "black",
           "family": "Hack,Courier New,monospace",
           "size": 12
          },
          "showarrow": false,
          "text": "3",
          "textangle": -90,
          "x": 2.5,
          "xref": "x4",
          "y": -0.5103,
          "yanchor": "bottom",
          "yref": "y",
          "yshift": 0
         },
         {
          "font": {
           "color": "black",
           "family": "Hack,Courier New,monospace",
           "size": 12
          },
          "showarrow": false,
          "text": "4",
          "textangle": -90,
          "x": 3.5,
          "xref": "x4",
          "y": -0.5103,
          "yanchor": "bottom",
          "yref": "y",
          "yshift": 0
         },
         {
          "font": {
           "color": "black",
           "family": "Hack,Courier New,monospace",
           "size": 12
          },
          "showarrow": false,
          "text": "5",
          "textangle": -90,
          "x": 4.5,
          "xref": "x4",
          "y": -0.5103,
          "yanchor": "bottom",
          "yref": "y",
          "yshift": 0
         },
         {
          "font": {
           "color": "black",
           "family": "Hack,Courier New,monospace",
           "size": 12
          },
          "showarrow": false,
          "text": "6",
          "textangle": -90,
          "x": 5.5,
          "xref": "x4",
          "y": -0.5103,
          "yanchor": "bottom",
          "yref": "y",
          "yshift": 0
         },
         {
          "font": {
           "color": "black",
           "family": "Hack,Courier New,monospace",
           "size": 12
          },
          "showarrow": false,
          "text": "7",
          "textangle": -90,
          "x": 6.5,
          "xref": "x4",
          "y": -0.5103,
          "yanchor": "bottom",
          "yref": "y",
          "yshift": 0
         },
         {
          "font": {
           "color": "black",
           "family": "Hack,Courier New,monospace",
           "size": 12
          },
          "showarrow": false,
          "text": "8",
          "textangle": -90,
          "x": 7.5,
          "xref": "x4",
          "y": -0.5103,
          "yanchor": "bottom",
          "yref": "y",
          "yshift": 0
         },
         {
          "font": {
           "color": "black",
           "family": "Hack,Courier New,monospace",
           "size": 12
          },
          "showarrow": false,
          "text": "9",
          "textangle": -90,
          "x": 8.5,
          "xref": "x4",
          "y": -0.5103,
          "yanchor": "bottom",
          "yref": "y",
          "yshift": 0
         },
         {
          "font": {
           "color": "black",
           "family": "Hack,Courier New,monospace",
           "size": 12
          },
          "showarrow": false,
          "text": "10",
          "textangle": -90,
          "x": 9.5,
          "xref": "x4",
          "y": -0.5103,
          "yanchor": "bottom",
          "yref": "y",
          "yshift": 0
         },
         {
          "font": {
           "color": "black",
           "family": "Hack,Courier New,monospace",
           "size": 12
          },
          "showarrow": false,
          "text": "11",
          "textangle": -90,
          "x": 10.5,
          "xref": "x4",
          "y": -0.5103,
          "yanchor": "bottom",
          "yref": "y",
          "yshift": 0
         },
         {
          "font": {
           "color": "black",
           "family": "Hack,Courier New,monospace",
           "size": 12
          },
          "showarrow": false,
          "text": "12",
          "textangle": -90,
          "x": 11.5,
          "xref": "x4",
          "y": -0.5103,
          "yanchor": "bottom",
          "yref": "y",
          "yshift": 0
         },
         {
          "font": {
           "color": "black",
           "family": "Hack,Courier New,monospace",
           "size": 12
          },
          "showarrow": false,
          "text": "13",
          "textangle": -90,
          "x": 12.5,
          "xref": "x4",
          "y": -0.5103,
          "yanchor": "bottom",
          "yref": "y",
          "yshift": 0
         },
         {
          "font": {
           "color": "black",
           "family": "Hack,Courier New,monospace",
           "size": 12
          },
          "showarrow": false,
          "text": "14",
          "textangle": -90,
          "x": 13.5,
          "xref": "x4",
          "y": -0.5103,
          "yanchor": "bottom",
          "yref": "y",
          "yshift": 0
         },
         {
          "font": {
           "color": "black",
           "family": "Hack,Courier New,monospace",
           "size": 12
          },
          "showarrow": false,
          "text": "15",
          "textangle": -90,
          "x": 14.5,
          "xref": "x4",
          "y": -0.5103,
          "yanchor": "bottom",
          "yref": "y",
          "yshift": 0
         },
         {
          "font": {
           "color": "black",
           "family": "Hack,Courier New,monospace",
           "size": 12
          },
          "showarrow": false,
          "text": "16",
          "textangle": -90,
          "x": 15.5,
          "xref": "x4",
          "y": -0.5103,
          "yanchor": "bottom",
          "yref": "y",
          "yshift": 0
         },
         {
          "font": {
           "color": "black",
           "family": "Hack,Courier New,monospace",
           "size": 12
          },
          "showarrow": false,
          "text": "17",
          "textangle": -90,
          "x": 16.5,
          "xref": "x4",
          "y": -0.5103,
          "yanchor": "bottom",
          "yref": "y",
          "yshift": 0
         },
         {
          "font": {
           "color": "black",
           "family": "Hack,Courier New,monospace",
           "size": 12
          },
          "showarrow": false,
          "text": "18",
          "textangle": -90,
          "x": 17.5,
          "xref": "x4",
          "y": -0.5103,
          "yanchor": "bottom",
          "yref": "y",
          "yshift": 0
         },
         {
          "font": {
           "color": "black",
           "family": "Hack,Courier New,monospace",
           "size": 12
          },
          "showarrow": false,
          "text": "19",
          "textangle": -90,
          "x": 18.5,
          "xref": "x4",
          "y": -0.5103,
          "yanchor": "bottom",
          "yref": "y",
          "yshift": 0
         },
         {
          "font": {
           "color": "black",
           "family": "Hack,Courier New,monospace",
           "size": 12
          },
          "showarrow": false,
          "text": "20",
          "textangle": -90,
          "x": 19.5,
          "xref": "x4",
          "y": -0.5103,
          "yanchor": "bottom",
          "yref": "y",
          "yshift": 0
         },
         {
          "font": {
           "color": "black",
           "family": "Hack,Courier New,monospace",
           "size": 12
          },
          "showarrow": false,
          "text": "21",
          "textangle": -90,
          "x": 20.5,
          "xref": "x4",
          "y": -0.5103,
          "yanchor": "bottom",
          "yref": "y",
          "yshift": 0
         },
         {
          "font": {
           "color": "black",
           "family": "Hack,Courier New,monospace",
           "size": 12
          },
          "showarrow": false,
          "text": "22",
          "textangle": -90,
          "x": 21.5,
          "xref": "x4",
          "y": -0.5103,
          "yanchor": "bottom",
          "yref": "y",
          "yshift": 0
         },
         {
          "font": {
           "color": "black",
           "family": "Hack,Courier New,monospace",
           "size": 12
          },
          "showarrow": false,
          "text": "23",
          "textangle": -90,
          "x": 22.5,
          "xref": "x4",
          "y": -0.5103,
          "yanchor": "bottom",
          "yref": "y",
          "yshift": 0
         },
         {
          "font": {
           "color": "black",
           "family": "Hack,Courier New,monospace",
           "size": 12
          },
          "showarrow": false,
          "text": "24",
          "textangle": -90,
          "x": 23.5,
          "xref": "x4",
          "y": -0.5103,
          "yanchor": "bottom",
          "yref": "y",
          "yshift": 0
         },
         {
          "font": {
           "color": "black",
           "family": "Hack,Courier New,monospace",
           "size": 12
          },
          "showarrow": false,
          "text": "25",
          "textangle": -90,
          "x": 24.5,
          "xref": "x4",
          "y": -0.5103,
          "yanchor": "bottom",
          "yref": "y",
          "yshift": 0
         },
         {
          "font": {
           "color": "black",
           "family": "Hack,Courier New,monospace",
           "size": 12
          },
          "showarrow": false,
          "text": "26",
          "textangle": -90,
          "x": 25.5,
          "xref": "x4",
          "y": -0.5103,
          "yanchor": "bottom",
          "yref": "y",
          "yshift": 0
         },
         {
          "font": {
           "color": "black",
           "family": "Hack,Courier New,monospace",
           "size": 12
          },
          "showarrow": false,
          "text": "27",
          "textangle": -90,
          "x": 26.5,
          "xref": "x4",
          "y": -0.5103,
          "yanchor": "bottom",
          "yref": "y",
          "yshift": 0
         },
         {
          "font": {
           "color": "black",
           "family": "Hack,Courier New,monospace",
           "size": 12
          },
          "showarrow": false,
          "text": "28",
          "textangle": -90,
          "x": 27.5,
          "xref": "x4",
          "y": -0.5103,
          "yanchor": "bottom",
          "yref": "y",
          "yshift": 0
         },
         {
          "font": {
           "color": "black",
           "family": "Hack,Courier New,monospace",
           "size": 12
          },
          "showarrow": false,
          "text": "29",
          "textangle": -90,
          "x": 28.5,
          "xref": "x4",
          "y": -0.5103,
          "yanchor": "bottom",
          "yref": "y",
          "yshift": 0
         },
         {
          "font": {
           "color": "black",
           "family": "Hack,Courier New,monospace",
           "size": 12
          },
          "showarrow": false,
          "text": "30",
          "textangle": -90,
          "x": 29.5,
          "xref": "x4",
          "y": -0.5103,
          "yanchor": "bottom",
          "yref": "y",
          "yshift": 0
         },
         {
          "font": {
           "color": "black",
           "family": "Hack,Courier New,monospace",
           "size": 12
          },
          "showarrow": false,
          "text": "31",
          "textangle": -90,
          "x": 30.5,
          "xref": "x4",
          "y": -0.5103,
          "yanchor": "bottom",
          "yref": "y",
          "yshift": 0
         },
         {
          "font": {
           "color": "black",
           "family": "Hack,Courier New,monospace",
           "size": 12
          },
          "showarrow": false,
          "text": "Wheel front axle ",
          "textangle": 0,
          "x": 7.456,
          "xanchor": "right",
          "xref": "x7",
          "y": 30.5,
          "yref": "y6",
          "yshift": 0
         },
         {
          "font": {
           "color": "black",
           "family": "Hack,Courier New,monospace",
           "size": 12
          },
          "showarrow": false,
          "text": "Hub front axle ",
          "textangle": 0,
          "x": 7.456,
          "xanchor": "right",
          "xref": "x7",
          "y": 29.5,
          "yref": "y6",
          "yshift": 0
         },
         {
          "font": {
           "color": "black",
           "family": "Hack,Courier New,monospace",
           "size": 12
          },
          "showarrow": false,
          "text": "Steering knuckle front axle",
          "textangle": 0,
          "x": 7.456,
          "xanchor": "right",
          "xref": "x7",
          "y": 28.5,
          "yref": "y6",
          "yshift": 0
         },
         {
          "font": {
           "color": "black",
           "family": "Hack,Courier New,monospace",
           "size": 12
          },
          "showarrow": false,
          "text": "Knuckle arm front axle ",
          "textangle": 0,
          "x": 7.456,
          "xanchor": "right",
          "xref": "x7",
          "y": 27.5,
          "yref": "y6",
          "yshift": 0
         },
         {
          "font": {
           "color": "black",
           "family": "Hack,Courier New,monospace",
           "size": 12
          },
          "showarrow": false,
          "text": "Frame front axle ",
          "textangle": 0,
          "x": 7.456,
          "xanchor": "right",
          "xref": "x7",
          "y": 26.5,
          "yref": "y6",
          "yshift": 0
         },
         {
          "font": {
           "color": "black",
           "family": "Hack,Courier New,monospace",
           "size": 12
          },
          "showarrow": false,
          "text": "Tie rod front axle",
          "textangle": 0,
          "x": 7.456,
          "xanchor": "right",
          "xref": "x7",
          "y": 25.5,
          "yref": "y6",
          "yshift": 0
         },
         {
          "font": {
           "color": "black",
           "family": "Hack,Courier New,monospace",
           "size": 12
          },
          "showarrow": false,
          "text": "Angle sensor front axle",
          "textangle": 0,
          "x": 7.456,
          "xanchor": "right",
          "xref": "x7",
          "y": 24.5,
          "yref": "y6",
          "yshift": 0
         },
         {
          "font": {
           "color": "black",
           "family": "Hack,Courier New,monospace",
           "size": 12
          },
          "showarrow": false,
          "text": "Speedometer",
          "textangle": 0,
          "x": 7.456,
          "xanchor": "right",
          "xref": "x7",
          "y": 23.5,
          "yref": "y6",
          "yshift": 0
         },
         {
          "font": {
           "color": "black",
           "family": "Hack,Courier New,monospace",
           "size": 12
          },
          "showarrow": false,
          "text": "ECU",
          "textangle": 0,
          "x": 7.456,
          "xanchor": "right",
          "xref": "x7",
          "y": 22.5,
          "yref": "y6",
          "yshift": 0
         },
         {
          "font": {
           "color": "black",
           "family": "Hack,Courier New,monospace",
           "size": 12
          },
          "showarrow": false,
          "text": "Engine ",
          "textangle": 0,
          "x": 7.456,
          "xanchor": "right",
          "xref": "x7",
          "y": 21.5,
          "yref": "y6",
          "yshift": 0
         },
         {
          "font": {
           "color": "black",
           "family": "Hack,Courier New,monospace",
           "size": 12
          },
          "showarrow": false,
          "text": "Hydraulic oil reservoir",
          "textangle": 0,
          "x": 7.456,
          "xanchor": "right",
          "xref": "x7",
          "y": 20.5,
          "yref": "y6",
          "yshift": 0
         },
         {
          "font": {
           "color": "black",
           "family": "Hack,Courier New,monospace",
           "size": 12
          },
          "showarrow": false,
          "text": "Steering actuation cylinder front axle ",
          "textangle": 0,
          "x": 7.456,
          "xanchor": "right",
          "xref": "x7",
          "y": 19.5,
          "yref": "y6",
          "yshift": 0
         },
         {
          "font": {
           "color": "black",
           "family": "Hack,Courier New,monospace",
           "size": 12
          },
          "showarrow": false,
          "text": "Servo valve front axle ",
          "textangle": 0,
          "x": 7.456,
          "xanchor": "right",
          "xref": "x7",
          "y": 18.5,
          "yref": "y6",
          "yshift": 0
         },
         {
          "font": {
           "color": "black",
           "family": "Hack,Courier New,monospace",
           "size": 12
          },
          "showarrow": false,
          "text": "Pump front axle ",
          "textangle": 0,
          "x": 7.456,
          "xanchor": "right",
          "xref": "x7",
          "y": 17.5,
          "yref": "y6",
          "yshift": 0
         },
         {
          "font": {
           "color": "black",
           "family": "Hack,Courier New,monospace",
           "size": 12
          },
          "showarrow": false,
          "text": "Filter front axle ",
          "textangle": 0,
          "x": 7.456,
          "xanchor": "right",
          "xref": "x7",
          "y": 16.5,
          "yref": "y6",
          "yshift": 0
         },
         {
          "font": {
           "color": "black",
           "family": "Hack,Courier New,monospace",
           "size": 12
          },
          "showarrow": false,
          "text": "Cooler front axle ",
          "textangle": 0,
          "x": 7.456,
          "xanchor": "right",
          "xref": "x7",
          "y": 15.5,
          "yref": "y6",
          "yshift": 0
         },
         {
          "font": {
           "color": "black",
           "family": "Hack,Courier New,monospace",
           "size": 12
          },
          "showarrow": false,
          "text": "Steering actuation cylinder second axle ",
          "textangle": 0,
          "x": 7.456,
          "xanchor": "right",
          "xref": "x7",
          "y": 14.5,
          "yref": "y6",
          "yshift": 0
         },
         {
          "font": {
           "color": "black",
           "family": "Hack,Courier New,monospace",
           "size": 12
          },
          "showarrow": false,
          "text": "Servo valve second axle ",
          "textangle": 0,
          "x": 7.456,
          "xanchor": "right",
          "xref": "x7",
          "y": 13.5,
          "yref": "y6",
          "yshift": 0
         },
         {
          "font": {
           "color": "black",
           "family": "Hack,Courier New,monospace",
           "size": 12
          },
          "showarrow": false,
          "text": "Pump second axle ",
          "textangle": 0,
          "x": 7.456,
          "xanchor": "right",
          "xref": "x7",
          "y": 12.5,
          "yref": "y6",
          "yshift": 0
         },
         {
          "font": {
           "color": "black",
           "family": "Hack,Courier New,monospace",
           "size": 12
          },
          "showarrow": false,
          "text": "Filter second axle ",
          "textangle": 0,
          "x": 7.456,
          "xanchor": "right",
          "xref": "x7",
          "y": 11.5,
          "yref": "y6",
          "yshift": 0
         },
         {
          "font": {
           "color": "black",
           "family": "Hack,Courier New,monospace",
           "size": 12
          },
          "showarrow": false,
          "text": "Cooler second axle ",
          "textangle": 0,
          "x": 7.456,
          "xanchor": "right",
          "xref": "x7",
          "y": 10.5,
          "yref": "y6",
          "yshift": 0
         },
         {
          "font": {
           "color": "black",
           "family": "Hack,Courier New,monospace",
           "size": 12
          },
          "showarrow": false,
          "text": "Wheel second axle ",
          "textangle": 0,
          "x": 7.456,
          "xanchor": "right",
          "xref": "x7",
          "y": 9.5,
          "yref": "y6",
          "yshift": 0
         },
         {
          "font": {
           "color": "black",
           "family": "Hack,Courier New,monospace",
           "size": 12
          },
          "showarrow": false,
          "text": "Hub second axle ",
          "textangle": 0,
          "x": 7.456,
          "xanchor": "right",
          "xref": "x7",
          "y": 8.5,
          "yref": "y6",
          "yshift": 0
         },
         {
          "font": {
           "color": "black",
           "family": "Hack,Courier New,monospace",
           "size": 12
          },
          "showarrow": false,
          "text": "Steering knuckle second axle",
          "textangle": 0,
          "x": 7.456,
          "xanchor": "right",
          "xref": "x7",
          "y": 7.5,
          "yref": "y6",
          "yshift": 0
         },
         {
          "font": {
           "color": "black",
           "family": "Hack,Courier New,monospace",
           "size": 12
          },
          "showarrow": false,
          "text": "Knuckle arm second axle ",
          "textangle": 0,
          "x": 7.456,
          "xanchor": "right",
          "xref": "x7",
          "y": 6.5,
          "yref": "y6",
          "yshift": 0
         },
         {
          "font": {
           "color": "black",
           "family": "Hack,Courier New,monospace",
           "size": 12
          },
          "showarrow": false,
          "text": "Frame second axle ",
          "textangle": 0,
          "x": 7.456,
          "xanchor": "right",
          "xref": "x7",
          "y": 5.5,
          "yref": "y6",
          "yshift": 0
         },
         {
          "font": {
           "color": "black",
           "family": "Hack,Courier New,monospace",
           "size": 12
          },
          "showarrow": false,
          "text": "Tie rod second axle",
          "textangle": 0,
          "x": 7.456,
          "xanchor": "right",
          "xref": "x7",
          "y": 4.5,
          "yref": "y6",
          "yshift": 0
         },
         {
          "font": {
           "color": "black",
           "family": "Hack,Courier New,monospace",
           "size": 12
          },
          "showarrow": false,
          "text": "Angle sensor second axle",
          "textangle": 0,
          "x": 7.456,
          "xanchor": "right",
          "xref": "x7",
          "y": 3.5,
          "yref": "y6",
          "yshift": 0
         },
         {
          "font": {
           "color": "black",
           "family": "Hack,Courier New,monospace",
           "size": 12
          },
          "showarrow": false,
          "text": "Electric steering motor front axle ",
          "textangle": 0,
          "x": 7.456,
          "xanchor": "right",
          "xref": "x7",
          "y": 2.5,
          "yref": "y6",
          "yshift": 0
         },
         {
          "font": {
           "color": "black",
           "family": "Hack,Courier New,monospace",
           "size": 12
          },
          "showarrow": false,
          "text": "Electric steering motor second axle ",
          "textangle": 0,
          "x": 7.456,
          "xanchor": "right",
          "xref": "x7",
          "y": 1.5,
          "yref": "y6",
          "yshift": 0
         },
         {
          "font": {
           "color": "black",
           "family": "Hack,Courier New,monospace",
           "size": 12
          },
          "showarrow": false,
          "text": "Battery Box",
          "textangle": 0,
          "x": 7.456,
          "xanchor": "right",
          "xref": "x7",
          "y": 0.5,
          "yref": "y6",
          "yshift": 0
         },
         {
          "font": {
           "color": "black",
           "family": "Hack,Courier New,monospace",
           "size": 12
          },
          "showarrow": false,
          "text": "1",
          "textangle": 0,
          "x": 0.6103,
          "xanchor": "right",
          "xref": "x8",
          "y": 30.5,
          "yref": "y6",
          "yshift": 0
         },
         {
          "font": {
           "color": "black",
           "family": "Hack,Courier New,monospace",
           "size": 12
          },
          "showarrow": false,
          "text": "2",
          "textangle": 0,
          "x": 0.6103,
          "xanchor": "right",
          "xref": "x8",
          "y": 29.5,
          "yref": "y6",
          "yshift": 0
         },
         {
          "font": {
           "color": "black",
           "family": "Hack,Courier New,monospace",
           "size": 12
          },
          "showarrow": false,
          "text": "3",
          "textangle": 0,
          "x": 0.6103,
          "xanchor": "right",
          "xref": "x8",
          "y": 28.5,
          "yref": "y6",
          "yshift": 0
         },
         {
          "font": {
           "color": "black",
           "family": "Hack,Courier New,monospace",
           "size": 12
          },
          "showarrow": false,
          "text": "4",
          "textangle": 0,
          "x": 0.6103,
          "xanchor": "right",
          "xref": "x8",
          "y": 27.5,
          "yref": "y6",
          "yshift": 0
         },
         {
          "font": {
           "color": "black",
           "family": "Hack,Courier New,monospace",
           "size": 12
          },
          "showarrow": false,
          "text": "5",
          "textangle": 0,
          "x": 0.6103,
          "xanchor": "right",
          "xref": "x8",
          "y": 26.5,
          "yref": "y6",
          "yshift": 0
         },
         {
          "font": {
           "color": "black",
           "family": "Hack,Courier New,monospace",
           "size": 12
          },
          "showarrow": false,
          "text": "6",
          "textangle": 0,
          "x": 0.6103,
          "xanchor": "right",
          "xref": "x8",
          "y": 25.5,
          "yref": "y6",
          "yshift": 0
         },
         {
          "font": {
           "color": "black",
           "family": "Hack,Courier New,monospace",
           "size": 12
          },
          "showarrow": false,
          "text": "7",
          "textangle": 0,
          "x": 0.6103,
          "xanchor": "right",
          "xref": "x8",
          "y": 24.5,
          "yref": "y6",
          "yshift": 0
         },
         {
          "font": {
           "color": "black",
           "family": "Hack,Courier New,monospace",
           "size": 12
          },
          "showarrow": false,
          "text": "8",
          "textangle": 0,
          "x": 0.6103,
          "xanchor": "right",
          "xref": "x8",
          "y": 23.5,
          "yref": "y6",
          "yshift": 0
         },
         {
          "font": {
           "color": "black",
           "family": "Hack,Courier New,monospace",
           "size": 12
          },
          "showarrow": false,
          "text": "9",
          "textangle": 0,
          "x": 0.6103,
          "xanchor": "right",
          "xref": "x8",
          "y": 22.5,
          "yref": "y6",
          "yshift": 0
         },
         {
          "font": {
           "color": "black",
           "family": "Hack,Courier New,monospace",
           "size": 12
          },
          "showarrow": false,
          "text": "10",
          "textangle": 0,
          "x": 0.6103,
          "xanchor": "right",
          "xref": "x8",
          "y": 21.5,
          "yref": "y6",
          "yshift": 0
         },
         {
          "font": {
           "color": "black",
           "family": "Hack,Courier New,monospace",
           "size": 12
          },
          "showarrow": false,
          "text": "11",
          "textangle": 0,
          "x": 0.6103,
          "xanchor": "right",
          "xref": "x8",
          "y": 20.5,
          "yref": "y6",
          "yshift": 0
         },
         {
          "font": {
           "color": "black",
           "family": "Hack,Courier New,monospace",
           "size": 12
          },
          "showarrow": false,
          "text": "12",
          "textangle": 0,
          "x": 0.6103,
          "xanchor": "right",
          "xref": "x8",
          "y": 19.5,
          "yref": "y6",
          "yshift": 0
         },
         {
          "font": {
           "color": "black",
           "family": "Hack,Courier New,monospace",
           "size": 12
          },
          "showarrow": false,
          "text": "13",
          "textangle": 0,
          "x": 0.6103,
          "xanchor": "right",
          "xref": "x8",
          "y": 18.5,
          "yref": "y6",
          "yshift": 0
         },
         {
          "font": {
           "color": "black",
           "family": "Hack,Courier New,monospace",
           "size": 12
          },
          "showarrow": false,
          "text": "14",
          "textangle": 0,
          "x": 0.6103,
          "xanchor": "right",
          "xref": "x8",
          "y": 17.5,
          "yref": "y6",
          "yshift": 0
         },
         {
          "font": {
           "color": "black",
           "family": "Hack,Courier New,monospace",
           "size": 12
          },
          "showarrow": false,
          "text": "15",
          "textangle": 0,
          "x": 0.6103,
          "xanchor": "right",
          "xref": "x8",
          "y": 16.5,
          "yref": "y6",
          "yshift": 0
         },
         {
          "font": {
           "color": "black",
           "family": "Hack,Courier New,monospace",
           "size": 12
          },
          "showarrow": false,
          "text": "16",
          "textangle": 0,
          "x": 0.6103,
          "xanchor": "right",
          "xref": "x8",
          "y": 15.5,
          "yref": "y6",
          "yshift": 0
         },
         {
          "font": {
           "color": "black",
           "family": "Hack,Courier New,monospace",
           "size": 12
          },
          "showarrow": false,
          "text": "17",
          "textangle": 0,
          "x": 0.6103,
          "xanchor": "right",
          "xref": "x8",
          "y": 14.5,
          "yref": "y6",
          "yshift": 0
         },
         {
          "font": {
           "color": "black",
           "family": "Hack,Courier New,monospace",
           "size": 12
          },
          "showarrow": false,
          "text": "18",
          "textangle": 0,
          "x": 0.6103,
          "xanchor": "right",
          "xref": "x8",
          "y": 13.5,
          "yref": "y6",
          "yshift": 0
         },
         {
          "font": {
           "color": "black",
           "family": "Hack,Courier New,monospace",
           "size": 12
          },
          "showarrow": false,
          "text": "19",
          "textangle": 0,
          "x": 0.6103,
          "xanchor": "right",
          "xref": "x8",
          "y": 12.5,
          "yref": "y6",
          "yshift": 0
         },
         {
          "font": {
           "color": "black",
           "family": "Hack,Courier New,monospace",
           "size": 12
          },
          "showarrow": false,
          "text": "20",
          "textangle": 0,
          "x": 0.6103,
          "xanchor": "right",
          "xref": "x8",
          "y": 11.5,
          "yref": "y6",
          "yshift": 0
         },
         {
          "font": {
           "color": "black",
           "family": "Hack,Courier New,monospace",
           "size": 12
          },
          "showarrow": false,
          "text": "21",
          "textangle": 0,
          "x": 0.6103,
          "xanchor": "right",
          "xref": "x8",
          "y": 10.5,
          "yref": "y6",
          "yshift": 0
         },
         {
          "font": {
           "color": "black",
           "family": "Hack,Courier New,monospace",
           "size": 12
          },
          "showarrow": false,
          "text": "22",
          "textangle": 0,
          "x": 0.6103,
          "xanchor": "right",
          "xref": "x8",
          "y": 9.5,
          "yref": "y6",
          "yshift": 0
         },
         {
          "font": {
           "color": "black",
           "family": "Hack,Courier New,monospace",
           "size": 12
          },
          "showarrow": false,
          "text": "23",
          "textangle": 0,
          "x": 0.6103,
          "xanchor": "right",
          "xref": "x8",
          "y": 8.5,
          "yref": "y6",
          "yshift": 0
         },
         {
          "font": {
           "color": "black",
           "family": "Hack,Courier New,monospace",
           "size": 12
          },
          "showarrow": false,
          "text": "24",
          "textangle": 0,
          "x": 0.6103,
          "xanchor": "right",
          "xref": "x8",
          "y": 7.5,
          "yref": "y6",
          "yshift": 0
         },
         {
          "font": {
           "color": "black",
           "family": "Hack,Courier New,monospace",
           "size": 12
          },
          "showarrow": false,
          "text": "25",
          "textangle": 0,
          "x": 0.6103,
          "xanchor": "right",
          "xref": "x8",
          "y": 6.5,
          "yref": "y6",
          "yshift": 0
         },
         {
          "font": {
           "color": "black",
           "family": "Hack,Courier New,monospace",
           "size": 12
          },
          "showarrow": false,
          "text": "26",
          "textangle": 0,
          "x": 0.6103,
          "xanchor": "right",
          "xref": "x8",
          "y": 5.5,
          "yref": "y6",
          "yshift": 0
         },
         {
          "font": {
           "color": "black",
           "family": "Hack,Courier New,monospace",
           "size": 12
          },
          "showarrow": false,
          "text": "27",
          "textangle": 0,
          "x": 0.6103,
          "xanchor": "right",
          "xref": "x8",
          "y": 4.5,
          "yref": "y6",
          "yshift": 0
         },
         {
          "font": {
           "color": "black",
           "family": "Hack,Courier New,monospace",
           "size": 12
          },
          "showarrow": false,
          "text": "28",
          "textangle": 0,
          "x": 0.6103,
          "xanchor": "right",
          "xref": "x8",
          "y": 3.5,
          "yref": "y6",
          "yshift": 0
         },
         {
          "font": {
           "color": "black",
           "family": "Hack,Courier New,monospace",
           "size": 12
          },
          "showarrow": false,
          "text": "29",
          "textangle": 0,
          "x": 0.6103,
          "xanchor": "right",
          "xref": "x8",
          "y": 2.5,
          "yref": "y6",
          "yshift": 0
         },
         {
          "font": {
           "color": "black",
           "family": "Hack,Courier New,monospace",
           "size": 12
          },
          "showarrow": false,
          "text": "30",
          "textangle": 0,
          "x": 0.6103,
          "xanchor": "right",
          "xref": "x8",
          "y": 1.5,
          "yref": "y6",
          "yshift": 0
         },
         {
          "font": {
           "color": "black",
           "family": "Hack,Courier New,monospace",
           "size": 12
          },
          "showarrow": false,
          "text": "31",
          "textangle": 0,
          "x": 0.6103,
          "xanchor": "right",
          "xref": "x8",
          "y": 0.5,
          "yref": "y6",
          "yshift": 0
         }
        ],
        "autosize": false,
        "height": 665.412,
        "hovermode": "closest",
        "margin": {
         "b": 0,
         "l": 0,
         "pad": 0,
         "r": 0,
         "t": 25
        },
        "modebar": {
         "orientation": "h"
        },
        "paper_bgcolor": "rgba(256,256,256,1)",
        "plot_bgcolor": "rgba(256,256,256,0)",
        "shapes": [
         {
          "line": {
           "color": "#dfdfdf",
           "dash": "solid",
           "width": 2
          },
          "type": "line",
          "x0": 0,
          "x1": 31,
          "xref": "x9",
          "y0": 0,
          "y1": 0,
          "yref": "y6"
         },
         {
          "line": {
           "color": "#dfdfdf",
           "dash": "solid",
           "width": 2
          },
          "type": "line",
          "x0": 0,
          "x1": 31,
          "xref": "x9",
          "y0": 1,
          "y1": 1,
          "yref": "y6"
         },
         {
          "line": {
           "color": "#dfdfdf",
           "dash": "solid",
           "width": 2
          },
          "type": "line",
          "x0": 0,
          "x1": 31,
          "xref": "x9",
          "y0": 2,
          "y1": 2,
          "yref": "y6"
         },
         {
          "line": {
           "color": "#dfdfdf",
           "dash": "solid",
           "width": 2
          },
          "type": "line",
          "x0": 0,
          "x1": 31,
          "xref": "x9",
          "y0": 3,
          "y1": 3,
          "yref": "y6"
         },
         {
          "line": {
           "color": "#dfdfdf",
           "dash": "solid",
           "width": 2
          },
          "type": "line",
          "x0": 0,
          "x1": 31,
          "xref": "x9",
          "y0": 4,
          "y1": 4,
          "yref": "y6"
         },
         {
          "line": {
           "color": "#dfdfdf",
           "dash": "solid",
           "width": 2
          },
          "type": "line",
          "x0": 0,
          "x1": 31,
          "xref": "x9",
          "y0": 5,
          "y1": 5,
          "yref": "y6"
         },
         {
          "line": {
           "color": "#dfdfdf",
           "dash": "solid",
           "width": 2
          },
          "type": "line",
          "x0": 0,
          "x1": 31,
          "xref": "x9",
          "y0": 6,
          "y1": 6,
          "yref": "y6"
         },
         {
          "line": {
           "color": "#dfdfdf",
           "dash": "solid",
           "width": 2
          },
          "type": "line",
          "x0": 0,
          "x1": 31,
          "xref": "x9",
          "y0": 7,
          "y1": 7,
          "yref": "y6"
         },
         {
          "line": {
           "color": "#dfdfdf",
           "dash": "solid",
           "width": 2
          },
          "type": "line",
          "x0": 0,
          "x1": 31,
          "xref": "x9",
          "y0": 8,
          "y1": 8,
          "yref": "y6"
         },
         {
          "line": {
           "color": "#dfdfdf",
           "dash": "solid",
           "width": 2
          },
          "type": "line",
          "x0": 0,
          "x1": 31,
          "xref": "x9",
          "y0": 9,
          "y1": 9,
          "yref": "y6"
         },
         {
          "line": {
           "color": "#dfdfdf",
           "dash": "solid",
           "width": 2
          },
          "type": "line",
          "x0": 0,
          "x1": 31,
          "xref": "x9",
          "y0": 10,
          "y1": 10,
          "yref": "y6"
         },
         {
          "line": {
           "color": "#dfdfdf",
           "dash": "solid",
           "width": 2
          },
          "type": "line",
          "x0": 0,
          "x1": 31,
          "xref": "x9",
          "y0": 11,
          "y1": 11,
          "yref": "y6"
         },
         {
          "line": {
           "color": "#dfdfdf",
           "dash": "solid",
           "width": 2
          },
          "type": "line",
          "x0": 0,
          "x1": 31,
          "xref": "x9",
          "y0": 12,
          "y1": 12,
          "yref": "y6"
         },
         {
          "line": {
           "color": "#dfdfdf",
           "dash": "solid",
           "width": 2
          },
          "type": "line",
          "x0": 0,
          "x1": 31,
          "xref": "x9",
          "y0": 13,
          "y1": 13,
          "yref": "y6"
         },
         {
          "line": {
           "color": "#dfdfdf",
           "dash": "solid",
           "width": 2
          },
          "type": "line",
          "x0": 0,
          "x1": 31,
          "xref": "x9",
          "y0": 14,
          "y1": 14,
          "yref": "y6"
         },
         {
          "line": {
           "color": "#dfdfdf",
           "dash": "solid",
           "width": 2
          },
          "type": "line",
          "x0": 0,
          "x1": 31,
          "xref": "x9",
          "y0": 15,
          "y1": 15,
          "yref": "y6"
         },
         {
          "line": {
           "color": "#dfdfdf",
           "dash": "solid",
           "width": 2
          },
          "type": "line",
          "x0": 0,
          "x1": 31,
          "xref": "x9",
          "y0": 16,
          "y1": 16,
          "yref": "y6"
         },
         {
          "line": {
           "color": "#dfdfdf",
           "dash": "solid",
           "width": 2
          },
          "type": "line",
          "x0": 0,
          "x1": 31,
          "xref": "x9",
          "y0": 17,
          "y1": 17,
          "yref": "y6"
         },
         {
          "line": {
           "color": "#dfdfdf",
           "dash": "solid",
           "width": 2
          },
          "type": "line",
          "x0": 0,
          "x1": 31,
          "xref": "x9",
          "y0": 18,
          "y1": 18,
          "yref": "y6"
         },
         {
          "line": {
           "color": "#dfdfdf",
           "dash": "solid",
           "width": 2
          },
          "type": "line",
          "x0": 0,
          "x1": 31,
          "xref": "x9",
          "y0": 19,
          "y1": 19,
          "yref": "y6"
         },
         {
          "line": {
           "color": "#dfdfdf",
           "dash": "solid",
           "width": 2
          },
          "type": "line",
          "x0": 0,
          "x1": 31,
          "xref": "x9",
          "y0": 20,
          "y1": 20,
          "yref": "y6"
         },
         {
          "line": {
           "color": "#dfdfdf",
           "dash": "solid",
           "width": 2
          },
          "type": "line",
          "x0": 0,
          "x1": 31,
          "xref": "x9",
          "y0": 21,
          "y1": 21,
          "yref": "y6"
         },
         {
          "line": {
           "color": "#dfdfdf",
           "dash": "solid",
           "width": 2
          },
          "type": "line",
          "x0": 0,
          "x1": 31,
          "xref": "x9",
          "y0": 22,
          "y1": 22,
          "yref": "y6"
         },
         {
          "line": {
           "color": "#dfdfdf",
           "dash": "solid",
           "width": 2
          },
          "type": "line",
          "x0": 0,
          "x1": 31,
          "xref": "x9",
          "y0": 23,
          "y1": 23,
          "yref": "y6"
         },
         {
          "line": {
           "color": "#dfdfdf",
           "dash": "solid",
           "width": 2
          },
          "type": "line",
          "x0": 0,
          "x1": 31,
          "xref": "x9",
          "y0": 24,
          "y1": 24,
          "yref": "y6"
         },
         {
          "line": {
           "color": "#dfdfdf",
           "dash": "solid",
           "width": 2
          },
          "type": "line",
          "x0": 0,
          "x1": 31,
          "xref": "x9",
          "y0": 25,
          "y1": 25,
          "yref": "y6"
         },
         {
          "line": {
           "color": "#dfdfdf",
           "dash": "solid",
           "width": 2
          },
          "type": "line",
          "x0": 0,
          "x1": 31,
          "xref": "x9",
          "y0": 26,
          "y1": 26,
          "yref": "y6"
         },
         {
          "line": {
           "color": "#dfdfdf",
           "dash": "solid",
           "width": 2
          },
          "type": "line",
          "x0": 0,
          "x1": 31,
          "xref": "x9",
          "y0": 27,
          "y1": 27,
          "yref": "y6"
         },
         {
          "line": {
           "color": "#dfdfdf",
           "dash": "solid",
           "width": 2
          },
          "type": "line",
          "x0": 0,
          "x1": 31,
          "xref": "x9",
          "y0": 28,
          "y1": 28,
          "yref": "y6"
         },
         {
          "line": {
           "color": "#dfdfdf",
           "dash": "solid",
           "width": 2
          },
          "type": "line",
          "x0": 0,
          "x1": 31,
          "xref": "x9",
          "y0": 29,
          "y1": 29,
          "yref": "y6"
         },
         {
          "line": {
           "color": "#dfdfdf",
           "dash": "solid",
           "width": 2
          },
          "type": "line",
          "x0": 0,
          "x1": 31,
          "xref": "x9",
          "y0": 30,
          "y1": 30,
          "yref": "y6"
         },
         {
          "line": {
           "color": "#dfdfdf",
           "dash": "solid",
           "width": 2
          },
          "type": "line",
          "x0": 0,
          "x1": 31,
          "xref": "x9",
          "y0": 31,
          "y1": 31,
          "yref": "y6"
         },
         {
          "line": {
           "color": "#dfdfdf",
           "dash": "solid",
           "width": 2
          },
          "type": "line",
          "x0": 0,
          "x1": 0,
          "xref": "x9",
          "y0": 0,
          "y1": 31,
          "yref": "y6"
         },
         {
          "line": {
           "color": "#dfdfdf",
           "dash": "solid",
           "width": 2
          },
          "type": "line",
          "x0": 1,
          "x1": 1,
          "xref": "x9",
          "y0": 0,
          "y1": 31,
          "yref": "y6"
         },
         {
          "line": {
           "color": "#dfdfdf",
           "dash": "solid",
           "width": 2
          },
          "type": "line",
          "x0": 2,
          "x1": 2,
          "xref": "x9",
          "y0": 0,
          "y1": 31,
          "yref": "y6"
         },
         {
          "line": {
           "color": "#dfdfdf",
           "dash": "solid",
           "width": 2
          },
          "type": "line",
          "x0": 3,
          "x1": 3,
          "xref": "x9",
          "y0": 0,
          "y1": 31,
          "yref": "y6"
         },
         {
          "line": {
           "color": "#dfdfdf",
           "dash": "solid",
           "width": 2
          },
          "type": "line",
          "x0": 4,
          "x1": 4,
          "xref": "x9",
          "y0": 0,
          "y1": 31,
          "yref": "y6"
         },
         {
          "line": {
           "color": "#dfdfdf",
           "dash": "solid",
           "width": 2
          },
          "type": "line",
          "x0": 5,
          "x1": 5,
          "xref": "x9",
          "y0": 0,
          "y1": 31,
          "yref": "y6"
         },
         {
          "line": {
           "color": "#dfdfdf",
           "dash": "solid",
           "width": 2
          },
          "type": "line",
          "x0": 6,
          "x1": 6,
          "xref": "x9",
          "y0": 0,
          "y1": 31,
          "yref": "y6"
         },
         {
          "line": {
           "color": "#dfdfdf",
           "dash": "solid",
           "width": 2
          },
          "type": "line",
          "x0": 7,
          "x1": 7,
          "xref": "x9",
          "y0": 0,
          "y1": 31,
          "yref": "y6"
         },
         {
          "line": {
           "color": "#dfdfdf",
           "dash": "solid",
           "width": 2
          },
          "type": "line",
          "x0": 8,
          "x1": 8,
          "xref": "x9",
          "y0": 0,
          "y1": 31,
          "yref": "y6"
         },
         {
          "line": {
           "color": "#dfdfdf",
           "dash": "solid",
           "width": 2
          },
          "type": "line",
          "x0": 9,
          "x1": 9,
          "xref": "x9",
          "y0": 0,
          "y1": 31,
          "yref": "y6"
         },
         {
          "line": {
           "color": "#dfdfdf",
           "dash": "solid",
           "width": 2
          },
          "type": "line",
          "x0": 10,
          "x1": 10,
          "xref": "x9",
          "y0": 0,
          "y1": 31,
          "yref": "y6"
         },
         {
          "line": {
           "color": "#dfdfdf",
           "dash": "solid",
           "width": 2
          },
          "type": "line",
          "x0": 11,
          "x1": 11,
          "xref": "x9",
          "y0": 0,
          "y1": 31,
          "yref": "y6"
         },
         {
          "line": {
           "color": "#dfdfdf",
           "dash": "solid",
           "width": 2
          },
          "type": "line",
          "x0": 12,
          "x1": 12,
          "xref": "x9",
          "y0": 0,
          "y1": 31,
          "yref": "y6"
         },
         {
          "line": {
           "color": "#dfdfdf",
           "dash": "solid",
           "width": 2
          },
          "type": "line",
          "x0": 13,
          "x1": 13,
          "xref": "x9",
          "y0": 0,
          "y1": 31,
          "yref": "y6"
         },
         {
          "line": {
           "color": "#dfdfdf",
           "dash": "solid",
           "width": 2
          },
          "type": "line",
          "x0": 14,
          "x1": 14,
          "xref": "x9",
          "y0": 0,
          "y1": 31,
          "yref": "y6"
         },
         {
          "line": {
           "color": "#dfdfdf",
           "dash": "solid",
           "width": 2
          },
          "type": "line",
          "x0": 15,
          "x1": 15,
          "xref": "x9",
          "y0": 0,
          "y1": 31,
          "yref": "y6"
         },
         {
          "line": {
           "color": "#dfdfdf",
           "dash": "solid",
           "width": 2
          },
          "type": "line",
          "x0": 16,
          "x1": 16,
          "xref": "x9",
          "y0": 0,
          "y1": 31,
          "yref": "y6"
         },
         {
          "line": {
           "color": "#dfdfdf",
           "dash": "solid",
           "width": 2
          },
          "type": "line",
          "x0": 17,
          "x1": 17,
          "xref": "x9",
          "y0": 0,
          "y1": 31,
          "yref": "y6"
         },
         {
          "line": {
           "color": "#dfdfdf",
           "dash": "solid",
           "width": 2
          },
          "type": "line",
          "x0": 18,
          "x1": 18,
          "xref": "x9",
          "y0": 0,
          "y1": 31,
          "yref": "y6"
         },
         {
          "line": {
           "color": "#dfdfdf",
           "dash": "solid",
           "width": 2
          },
          "type": "line",
          "x0": 19,
          "x1": 19,
          "xref": "x9",
          "y0": 0,
          "y1": 31,
          "yref": "y6"
         },
         {
          "line": {
           "color": "#dfdfdf",
           "dash": "solid",
           "width": 2
          },
          "type": "line",
          "x0": 20,
          "x1": 20,
          "xref": "x9",
          "y0": 0,
          "y1": 31,
          "yref": "y6"
         },
         {
          "line": {
           "color": "#dfdfdf",
           "dash": "solid",
           "width": 2
          },
          "type": "line",
          "x0": 21,
          "x1": 21,
          "xref": "x9",
          "y0": 0,
          "y1": 31,
          "yref": "y6"
         },
         {
          "line": {
           "color": "#dfdfdf",
           "dash": "solid",
           "width": 2
          },
          "type": "line",
          "x0": 22,
          "x1": 22,
          "xref": "x9",
          "y0": 0,
          "y1": 31,
          "yref": "y6"
         },
         {
          "line": {
           "color": "#dfdfdf",
           "dash": "solid",
           "width": 2
          },
          "type": "line",
          "x0": 23,
          "x1": 23,
          "xref": "x9",
          "y0": 0,
          "y1": 31,
          "yref": "y6"
         },
         {
          "line": {
           "color": "#dfdfdf",
           "dash": "solid",
           "width": 2
          },
          "type": "line",
          "x0": 24,
          "x1": 24,
          "xref": "x9",
          "y0": 0,
          "y1": 31,
          "yref": "y6"
         },
         {
          "line": {
           "color": "#dfdfdf",
           "dash": "solid",
           "width": 2
          },
          "type": "line",
          "x0": 25,
          "x1": 25,
          "xref": "x9",
          "y0": 0,
          "y1": 31,
          "yref": "y6"
         },
         {
          "line": {
           "color": "#dfdfdf",
           "dash": "solid",
           "width": 2
          },
          "type": "line",
          "x0": 26,
          "x1": 26,
          "xref": "x9",
          "y0": 0,
          "y1": 31,
          "yref": "y6"
         },
         {
          "line": {
           "color": "#dfdfdf",
           "dash": "solid",
           "width": 2
          },
          "type": "line",
          "x0": 27,
          "x1": 27,
          "xref": "x9",
          "y0": 0,
          "y1": 31,
          "yref": "y6"
         },
         {
          "line": {
           "color": "#dfdfdf",
           "dash": "solid",
           "width": 2
          },
          "type": "line",
          "x0": 28,
          "x1": 28,
          "xref": "x9",
          "y0": 0,
          "y1": 31,
          "yref": "y6"
         },
         {
          "line": {
           "color": "#dfdfdf",
           "dash": "solid",
           "width": 2
          },
          "type": "line",
          "x0": 29,
          "x1": 29,
          "xref": "x9",
          "y0": 0,
          "y1": 31,
          "yref": "y6"
         },
         {
          "line": {
           "color": "#dfdfdf",
           "dash": "solid",
           "width": 2
          },
          "type": "line",
          "x0": 30,
          "x1": 30,
          "xref": "x9",
          "y0": 0,
          "y1": 31,
          "yref": "y6"
         },
         {
          "line": {
           "color": "#dfdfdf",
           "dash": "solid",
           "width": 2
          },
          "type": "line",
          "x0": 31,
          "x1": 31,
          "xref": "x9",
          "y0": 0,
          "y1": 31,
          "yref": "y6"
         },
         {
          "fillcolor": "#dfdfdf",
          "layer": "below",
          "line": {
           "color": "#dfdfdf"
          },
          "type": "rect",
          "x0": 0,
          "x1": 1,
          "xref": "x9",
          "y0": 30,
          "y1": 31,
          "yref": "y6"
         },
         {
          "fillcolor": "#dfdfdf",
          "layer": "below",
          "line": {
           "color": "#dfdfdf"
          },
          "type": "rect",
          "x0": 1,
          "x1": 2,
          "xref": "x9",
          "y0": 29,
          "y1": 30,
          "yref": "y6"
         },
         {
          "fillcolor": "#dfdfdf",
          "layer": "below",
          "line": {
           "color": "#dfdfdf"
          },
          "type": "rect",
          "x0": 2,
          "x1": 3,
          "xref": "x9",
          "y0": 28,
          "y1": 29,
          "yref": "y6"
         },
         {
          "fillcolor": "#dfdfdf",
          "layer": "below",
          "line": {
           "color": "#dfdfdf"
          },
          "type": "rect",
          "x0": 3,
          "x1": 4,
          "xref": "x9",
          "y0": 27,
          "y1": 28,
          "yref": "y6"
         },
         {
          "fillcolor": "#dfdfdf",
          "layer": "below",
          "line": {
           "color": "#dfdfdf"
          },
          "type": "rect",
          "x0": 4,
          "x1": 5,
          "xref": "x9",
          "y0": 26,
          "y1": 27,
          "yref": "y6"
         },
         {
          "fillcolor": "#dfdfdf",
          "layer": "below",
          "line": {
           "color": "#dfdfdf"
          },
          "type": "rect",
          "x0": 5,
          "x1": 6,
          "xref": "x9",
          "y0": 25,
          "y1": 26,
          "yref": "y6"
         },
         {
          "fillcolor": "#dfdfdf",
          "layer": "below",
          "line": {
           "color": "#dfdfdf"
          },
          "type": "rect",
          "x0": 6,
          "x1": 7,
          "xref": "x9",
          "y0": 24,
          "y1": 25,
          "yref": "y6"
         },
         {
          "fillcolor": "#dfdfdf",
          "layer": "below",
          "line": {
           "color": "#dfdfdf"
          },
          "type": "rect",
          "x0": 7,
          "x1": 8,
          "xref": "x9",
          "y0": 23,
          "y1": 24,
          "yref": "y6"
         },
         {
          "fillcolor": "#dfdfdf",
          "layer": "below",
          "line": {
           "color": "#dfdfdf"
          },
          "type": "rect",
          "x0": 8,
          "x1": 9,
          "xref": "x9",
          "y0": 22,
          "y1": 23,
          "yref": "y6"
         },
         {
          "fillcolor": "#dfdfdf",
          "layer": "below",
          "line": {
           "color": "#dfdfdf"
          },
          "type": "rect",
          "x0": 9,
          "x1": 10,
          "xref": "x9",
          "y0": 21,
          "y1": 22,
          "yref": "y6"
         },
         {
          "fillcolor": "#dfdfdf",
          "layer": "below",
          "line": {
           "color": "#dfdfdf"
          },
          "type": "rect",
          "x0": 10,
          "x1": 11,
          "xref": "x9",
          "y0": 20,
          "y1": 21,
          "yref": "y6"
         },
         {
          "fillcolor": "#dfdfdf",
          "layer": "below",
          "line": {
           "color": "#dfdfdf"
          },
          "type": "rect",
          "x0": 11,
          "x1": 12,
          "xref": "x9",
          "y0": 19,
          "y1": 20,
          "yref": "y6"
         },
         {
          "fillcolor": "#dfdfdf",
          "layer": "below",
          "line": {
           "color": "#dfdfdf"
          },
          "type": "rect",
          "x0": 12,
          "x1": 13,
          "xref": "x9",
          "y0": 18,
          "y1": 19,
          "yref": "y6"
         },
         {
          "fillcolor": "#dfdfdf",
          "layer": "below",
          "line": {
           "color": "#dfdfdf"
          },
          "type": "rect",
          "x0": 13,
          "x1": 14,
          "xref": "x9",
          "y0": 17,
          "y1": 18,
          "yref": "y6"
         },
         {
          "fillcolor": "#dfdfdf",
          "layer": "below",
          "line": {
           "color": "#dfdfdf"
          },
          "type": "rect",
          "x0": 14,
          "x1": 15,
          "xref": "x9",
          "y0": 16,
          "y1": 17,
          "yref": "y6"
         },
         {
          "fillcolor": "#dfdfdf",
          "layer": "below",
          "line": {
           "color": "#dfdfdf"
          },
          "type": "rect",
          "x0": 15,
          "x1": 16,
          "xref": "x9",
          "y0": 15,
          "y1": 16,
          "yref": "y6"
         },
         {
          "fillcolor": "#dfdfdf",
          "layer": "below",
          "line": {
           "color": "#dfdfdf"
          },
          "type": "rect",
          "x0": 16,
          "x1": 17,
          "xref": "x9",
          "y0": 14,
          "y1": 15,
          "yref": "y6"
         },
         {
          "fillcolor": "#dfdfdf",
          "layer": "below",
          "line": {
           "color": "#dfdfdf"
          },
          "type": "rect",
          "x0": 17,
          "x1": 18,
          "xref": "x9",
          "y0": 13,
          "y1": 14,
          "yref": "y6"
         },
         {
          "fillcolor": "#dfdfdf",
          "layer": "below",
          "line": {
           "color": "#dfdfdf"
          },
          "type": "rect",
          "x0": 18,
          "x1": 19,
          "xref": "x9",
          "y0": 12,
          "y1": 13,
          "yref": "y6"
         },
         {
          "fillcolor": "#dfdfdf",
          "layer": "below",
          "line": {
           "color": "#dfdfdf"
          },
          "type": "rect",
          "x0": 19,
          "x1": 20,
          "xref": "x9",
          "y0": 11,
          "y1": 12,
          "yref": "y6"
         },
         {
          "fillcolor": "#dfdfdf",
          "layer": "below",
          "line": {
           "color": "#dfdfdf"
          },
          "type": "rect",
          "x0": 20,
          "x1": 21,
          "xref": "x9",
          "y0": 10,
          "y1": 11,
          "yref": "y6"
         },
         {
          "fillcolor": "#dfdfdf",
          "layer": "below",
          "line": {
           "color": "#dfdfdf"
          },
          "type": "rect",
          "x0": 21,
          "x1": 22,
          "xref": "x9",
          "y0": 9,
          "y1": 10,
          "yref": "y6"
         },
         {
          "fillcolor": "#dfdfdf",
          "layer": "below",
          "line": {
           "color": "#dfdfdf"
          },
          "type": "rect",
          "x0": 22,
          "x1": 23,
          "xref": "x9",
          "y0": 8,
          "y1": 9,
          "yref": "y6"
         },
         {
          "fillcolor": "#dfdfdf",
          "layer": "below",
          "line": {
           "color": "#dfdfdf"
          },
          "type": "rect",
          "x0": 23,
          "x1": 24,
          "xref": "x9",
          "y0": 7,
          "y1": 8,
          "yref": "y6"
         },
         {
          "fillcolor": "#dfdfdf",
          "layer": "below",
          "line": {
           "color": "#dfdfdf"
          },
          "type": "rect",
          "x0": 24,
          "x1": 25,
          "xref": "x9",
          "y0": 6,
          "y1": 7,
          "yref": "y6"
         },
         {
          "fillcolor": "#dfdfdf",
          "layer": "below",
          "line": {
           "color": "#dfdfdf"
          },
          "type": "rect",
          "x0": 25,
          "x1": 26,
          "xref": "x9",
          "y0": 5,
          "y1": 6,
          "yref": "y6"
         },
         {
          "fillcolor": "#dfdfdf",
          "layer": "below",
          "line": {
           "color": "#dfdfdf"
          },
          "type": "rect",
          "x0": 26,
          "x1": 27,
          "xref": "x9",
          "y0": 4,
          "y1": 5,
          "yref": "y6"
         },
         {
          "fillcolor": "#dfdfdf",
          "layer": "below",
          "line": {
           "color": "#dfdfdf"
          },
          "type": "rect",
          "x0": 27,
          "x1": 28,
          "xref": "x9",
          "y0": 3,
          "y1": 4,
          "yref": "y6"
         },
         {
          "fillcolor": "#dfdfdf",
          "layer": "below",
          "line": {
           "color": "#dfdfdf"
          },
          "type": "rect",
          "x0": 28,
          "x1": 29,
          "xref": "x9",
          "y0": 2,
          "y1": 3,
          "yref": "y6"
         },
         {
          "fillcolor": "#dfdfdf",
          "layer": "below",
          "line": {
           "color": "#dfdfdf"
          },
          "type": "rect",
          "x0": 29,
          "x1": 30,
          "xref": "x9",
          "y0": 1,
          "y1": 2,
          "yref": "y6"
         },
         {
          "fillcolor": "#dfdfdf",
          "layer": "below",
          "line": {
           "color": "#dfdfdf"
          },
          "type": "rect",
          "x0": 30,
          "x1": 31,
          "xref": "x9",
          "y0": 0,
          "y1": 1,
          "yref": "y6"
         },
         {
          "fillcolor": "#de9c38",
          "line": {
           "width": 0
          },
          "path": "M 0.5 29.5 L 0.9 29.5 Q 0.9 29.666 0.783 29.783 Q 0.666 29.9 0.5 29.9 Z",
          "type": "path",
          "xref": "x9",
          "yref": "y6"
         },
         {
          "fillcolor": "#de9c38",
          "line": {
           "width": 0
          },
          "path": "M 1.5 30.5 L 1.9 30.5 Q 1.9 30.666 1.783 30.783 Q 1.666 30.9 1.5 30.9 Z",
          "type": "path",
          "xref": "x9",
          "yref": "y6"
         },
         {
          "fillcolor": "#de9c38",
          "line": {
           "width": 0
          },
          "path": "M 1.5 28.5 L 1.9 28.5 Q 1.9 28.666 1.783 28.783 Q 1.666 28.9 1.5 28.9 Z",
          "type": "path",
          "xref": "x9",
          "yref": "y6"
         },
         {
          "fillcolor": "#de9c38",
          "line": {
           "width": 0
          },
          "path": "M 2.5 29.5 L 2.9 29.5 Q 2.9 29.666 2.783 29.783 Q 2.666 29.9 2.5 29.9 Z",
          "type": "path",
          "xref": "x9",
          "yref": "y6"
         },
         {
          "fillcolor": "#de9c38",
          "line": {
           "width": 0
          },
          "path": "M 2.5 27.5 L 2.9 27.5 Q 2.9 27.666 2.783 27.783 Q 2.666 27.9 2.5 27.9 Z",
          "type": "path",
          "xref": "x9",
          "yref": "y6"
         },
         {
          "fillcolor": "#de9c38",
          "line": {
           "width": 0
          },
          "path": "M 2.5 26.5 L 2.9 26.5 Q 2.9 26.666 2.783 26.783 Q 2.666 26.9 2.5 26.9 Z",
          "type": "path",
          "xref": "x9",
          "yref": "y6"
         },
         {
          "fillcolor": "#de9c38",
          "line": {
           "width": 0
          },
          "path": "M 2.5 24.5 L 2.9 24.5 Q 2.9 24.666 2.783 24.783 Q 2.666 24.9 2.5 24.9 Z",
          "type": "path",
          "xref": "x9",
          "yref": "y6"
         },
         {
          "fillcolor": "#de9c38",
          "line": {
           "width": 0
          },
          "path": "M 3.5 28.5 L 3.9 28.5 Q 3.9 28.666 3.783 28.783 Q 3.666 28.9 3.5 28.9 Z",
          "type": "path",
          "xref": "x9",
          "yref": "y6"
         },
         {
          "fillcolor": "#de9c38",
          "line": {
           "width": 0
          },
          "path": "M 3.5 26.5 L 3.9 26.5 Q 3.9 26.666 3.783 26.783 Q 3.666 26.9 3.5 26.9 Z",
          "type": "path",
          "xref": "x9",
          "yref": "y6"
         },
         {
          "fillcolor": "#de9c38",
          "line": {
           "width": 0
          },
          "path": "M 3.5 25.5 L 3.9 25.5 Q 3.9 25.666 3.783 25.783 Q 3.666 25.9 3.5 25.9 Z",
          "type": "path",
          "xref": "x9",
          "yref": "y6"
         },
         {
          "fillcolor": "#de9c38",
          "line": {
           "width": 0
          },
          "path": "M 3.5 19.5 L 3.9 19.5 Q 3.9 19.666 3.783 19.783 Q 3.666 19.9 3.5 19.9 Z",
          "type": "path",
          "xref": "x9",
          "yref": "y6"
         },
         {
          "fillcolor": "#de9c38",
          "line": {
           "width": 0
          },
          "path": "M 4.5 28.5 L 4.9 28.5 Q 4.9 28.666 4.783 28.783 Q 4.666 28.9 4.5 28.9 Z",
          "type": "path",
          "xref": "x9",
          "yref": "y6"
         },
         {
          "fillcolor": "#de9c38",
          "line": {
           "width": 0
          },
          "path": "M 4.5 27.5 L 4.9 27.5 Q 4.9 27.666 4.783 27.783 Q 4.666 27.9 4.5 27.9 Z",
          "type": "path",
          "xref": "x9",
          "yref": "y6"
         },
         {
          "fillcolor": "#de9c38",
          "line": {
           "width": 0
          },
          "path": "M 5.5 27.5 L 5.9 27.5 Q 5.9 27.666 5.783 27.783 Q 5.666 27.9 5.5 27.9 Z",
          "type": "path",
          "xref": "x9",
          "yref": "y6"
         },
         {
          "fillcolor": "#de9c38",
          "line": {
           "width": 0
          },
          "path": "M 5.5 2.5 L 5.9 2.5 Q 5.9 2.666 5.783 2.783 Q 5.666 2.9 5.5 2.9 Z",
          "type": "path",
          "xref": "x9",
          "yref": "y6"
         },
         {
          "fillcolor": "#de9c38",
          "line": {
           "width": 0
          },
          "path": "M 6.5 28.5 L 6.9 28.5 Q 6.9 28.666 6.783 28.783 Q 6.666 28.9 6.5 28.9 Z",
          "type": "path",
          "xref": "x9",
          "yref": "y6"
         },
         {
          "fillcolor": "#545a8e",
          "line": {
           "width": 0
          },
          "path": "M 6.5 22.5 L 6.1 22.5 Q 6.1 22.334 6.217 22.217 Q 6.334 22.1 6.5 22.1 Z",
          "type": "path",
          "xref": "x9",
          "yref": "y6"
         },
         {
          "fillcolor": "#545a8e",
          "line": {
           "width": 0
          },
          "path": "M 7.5 22.5 L 7.1 22.5 Q 7.1 22.334 7.217 22.217 Q 7.334 22.1 7.5 22.1 Z",
          "type": "path",
          "xref": "x9",
          "yref": "y6"
         },
         {
          "fillcolor": "#a64747",
          "line": {
           "width": 0
          },
          "path": "M 8.5 18.5 L 8.5 18.1 Q 8.666 18.1 8.783 18.217 Q 8.9 18.334 8.9 18.5 Z",
          "type": "path",
          "xref": "x9",
          "yref": "y6"
         },
         {
          "fillcolor": "#a64747",
          "line": {
           "width": 0
          },
          "path": "M 8.5 13.5 L 8.5 13.1 Q 8.666 13.1 8.783 13.217 Q 8.9 13.334 8.9 13.5 Z",
          "type": "path",
          "xref": "x9",
          "yref": "y6"
         },
         {
          "fillcolor": "#a64747",
          "line": {
           "width": 0
          },
          "path": "M 8.5 2.5 L 8.5 2.1 Q 8.666 2.1 8.783 2.217 Q 8.9 2.334 8.9 2.5 Z",
          "type": "path",
          "xref": "x9",
          "yref": "y6"
         },
         {
          "fillcolor": "#a64747",
          "line": {
           "width": 0
          },
          "path": "M 8.5 1.5 L 8.5 1.1 Q 8.666 1.1 8.783 1.217 Q 8.9 1.334 8.9 1.5 Z",
          "type": "path",
          "xref": "x9",
          "yref": "y6"
         },
         {
          "fillcolor": "#a64747",
          "line": {
           "width": 0
          },
          "path": "M 9.5 22.5 L 9.5 22.1 Q 9.666 22.1 9.783 22.217 Q 9.9 22.334 9.9 22.5 Z",
          "type": "path",
          "xref": "x9",
          "yref": "y6"
         },
         {
          "fillcolor": "#389dfc",
          "line": {
           "width": 0
          },
          "path": "M 10.5 17.5 L 10.5 17.9 Q 10.334 17.9 10.217 17.783 Q 10.1 17.666 10.1 17.5 Z",
          "type": "path",
          "xref": "x9",
          "yref": "y6"
         },
         {
          "fillcolor": "#389dfc",
          "line": {
           "width": 0
          },
          "path": "M 10.5 12.5 L 10.5 12.9 Q 10.334 12.9 10.217 12.783 Q 10.1 12.666 10.1 12.5 Z",
          "type": "path",
          "xref": "x9",
          "yref": "y6"
         },
         {
          "fillcolor": "#de9c38",
          "line": {
           "width": 0
          },
          "path": "M 11.5 27.5 L 11.9 27.5 Q 11.9 27.666 11.783 27.783 Q 11.666 27.9 11.5 27.9 Z",
          "type": "path",
          "xref": "x9",
          "yref": "y6"
         },
         {
          "fillcolor": "#389dfc",
          "line": {
           "width": 0
          },
          "path": "M 11.5 18.5 L 11.5 18.9 Q 11.334 18.9 11.217 18.783 Q 11.1 18.666 11.1 18.5 Z",
          "type": "path",
          "xref": "x9",
          "yref": "y6"
         },
         {
          "fillcolor": "#389dfc",
          "line": {
           "width": 0
          },
          "path": "M 12.5 19.5 L 12.5 19.9 Q 12.334 19.9 12.217 19.783 Q 12.1 19.666 12.1 19.5 Z",
          "type": "path",
          "xref": "x9",
          "yref": "y6"
         },
         {
          "fillcolor": "#389dfc",
          "line": {
           "width": 0
          },
          "path": "M 12.5 16.5 L 12.5 16.9 Q 12.334 16.9 12.217 16.783 Q 12.1 16.666 12.1 16.5 Z",
          "type": "path",
          "xref": "x9",
          "yref": "y6"
         },
         {
          "fillcolor": "#389dfc",
          "line": {
           "width": 0
          },
          "path": "M 13.5 18.5 L 13.5 18.9 Q 13.334 18.9 13.217 18.783 Q 13.1 18.666 13.1 18.5 Z",
          "type": "path",
          "xref": "x9",
          "yref": "y6"
         },
         {
          "fillcolor": "#389dfc",
          "line": {
           "width": 0
          },
          "path": "M 14.5 15.5 L 14.5 15.9 Q 14.334 15.9 14.217 15.783 Q 14.1 15.666 14.1 15.5 Z",
          "type": "path",
          "xref": "x9",
          "yref": "y6"
         },
         {
          "fillcolor": "#389dfc",
          "line": {
           "width": 0
          },
          "path": "M 15.5 20.5 L 15.5 20.9 Q 15.334 20.9 15.217 20.783 Q 15.1 20.666 15.1 20.5 Z",
          "type": "path",
          "xref": "x9",
          "yref": "y6"
         },
         {
          "fillcolor": "#389dfc",
          "line": {
           "width": 0
          },
          "path": "M 16.5 13.5 L 16.5 13.9 Q 16.334 13.9 16.217 13.783 Q 16.1 13.666 16.1 13.5 Z",
          "type": "path",
          "xref": "x9",
          "yref": "y6"
         },
         {
          "fillcolor": "#de9c38",
          "line": {
           "width": 0
          },
          "path": "M 16.5 6.5 L 16.9 6.5 Q 16.9 6.666 16.783 6.783 Q 16.666 6.9 16.5 6.9 Z",
          "type": "path",
          "xref": "x9",
          "yref": "y6"
         },
         {
          "fillcolor": "#389dfc",
          "line": {
           "width": 0
          },
          "path": "M 17.5 14.5 L 17.5 14.9 Q 17.334 14.9 17.217 14.783 Q 17.1 14.666 17.1 14.5 Z",
          "type": "path",
          "xref": "x9",
          "yref": "y6"
         },
         {
          "fillcolor": "#389dfc",
          "line": {
           "width": 0
          },
          "path": "M 17.5 11.5 L 17.5 11.9 Q 17.334 11.9 17.217 11.783 Q 17.1 11.666 17.1 11.5 Z",
          "type": "path",
          "xref": "x9",
          "yref": "y6"
         },
         {
          "fillcolor": "#389dfc",
          "line": {
           "width": 0
          },
          "path": "M 18.5 13.5 L 18.5 13.9 Q 18.334 13.9 18.217 13.783 Q 18.1 13.666 18.1 13.5 Z",
          "type": "path",
          "xref": "x9",
          "yref": "y6"
         },
         {
          "fillcolor": "#389dfc",
          "line": {
           "width": 0
          },
          "path": "M 19.5 10.5 L 19.5 10.9 Q 19.334 10.9 19.217 10.783 Q 19.1 10.666 19.1 10.5 Z",
          "type": "path",
          "xref": "x9",
          "yref": "y6"
         },
         {
          "fillcolor": "#389dfc",
          "line": {
           "width": 0
          },
          "path": "M 20.5 20.5 L 20.5 20.9 Q 20.334 20.9 20.217 20.783 Q 20.1 20.666 20.1 20.5 Z",
          "type": "path",
          "xref": "x9",
          "yref": "y6"
         },
         {
          "fillcolor": "#de9c38",
          "line": {
           "width": 0
          },
          "path": "M 21.5 8.5 L 21.9 8.5 Q 21.9 8.666 21.783 8.783 Q 21.666 8.9 21.5 8.9 Z",
          "type": "path",
          "xref": "x9",
          "yref": "y6"
         },
         {
          "fillcolor": "#de9c38",
          "line": {
           "width": 0
          },
          "path": "M 22.5 9.5 L 22.9 9.5 Q 22.9 9.666 22.783 9.783 Q 22.666 9.9 22.5 9.9 Z",
          "type": "path",
          "xref": "x9",
          "yref": "y6"
         },
         {
          "fillcolor": "#de9c38",
          "line": {
           "width": 0
          },
          "path": "M 22.5 7.5 L 22.9 7.5 Q 22.9 7.666 22.783 7.783 Q 22.666 7.9 22.5 7.9 Z",
          "type": "path",
          "xref": "x9",
          "yref": "y6"
         },
         {
          "fillcolor": "#de9c38",
          "line": {
           "width": 0
          },
          "path": "M 23.5 8.5 L 23.9 8.5 Q 23.9 8.666 23.783 8.783 Q 23.666 8.9 23.5 8.9 Z",
          "type": "path",
          "xref": "x9",
          "yref": "y6"
         },
         {
          "fillcolor": "#de9c38",
          "line": {
           "width": 0
          },
          "path": "M 23.5 6.5 L 23.9 6.5 Q 23.9 6.666 23.783 6.783 Q 23.666 6.9 23.5 6.9 Z",
          "type": "path",
          "xref": "x9",
          "yref": "y6"
         },
         {
          "fillcolor": "#de9c38",
          "line": {
           "width": 0
          },
          "path": "M 23.5 5.5 L 23.9 5.5 Q 23.9 5.666 23.783 5.783 Q 23.666 5.9 23.5 5.9 Z",
          "type": "path",
          "xref": "x9",
          "yref": "y6"
         },
         {
          "fillcolor": "#de9c38",
          "line": {
           "width": 0
          },
          "path": "M 23.5 3.5 L 23.9 3.5 Q 23.9 3.666 23.783 3.783 Q 23.666 3.9 23.5 3.9 Z",
          "type": "path",
          "xref": "x9",
          "yref": "y6"
         },
         {
          "fillcolor": "#de9c38",
          "line": {
           "width": 0
          },
          "path": "M 24.5 14.5 L 24.9 14.5 Q 24.9 14.666 24.783 14.783 Q 24.666 14.9 24.5 14.9 Z",
          "type": "path",
          "xref": "x9",
          "yref": "y6"
         },
         {
          "fillcolor": "#de9c38",
          "line": {
           "width": 0
          },
          "path": "M 24.5 7.5 L 24.9 7.5 Q 24.9 7.666 24.783 7.783 Q 24.666 7.9 24.5 7.9 Z",
          "type": "path",
          "xref": "x9",
          "yref": "y6"
         },
         {
          "fillcolor": "#de9c38",
          "line": {
           "width": 0
          },
          "path": "M 24.5 5.5 L 24.9 5.5 Q 24.9 5.666 24.783 5.783 Q 24.666 5.9 24.5 5.9 Z",
          "type": "path",
          "xref": "x9",
          "yref": "y6"
         },
         {
          "fillcolor": "#de9c38",
          "line": {
           "width": 0
          },
          "path": "M 24.5 4.5 L 24.9 4.5 Q 24.9 4.666 24.783 4.783 Q 24.666 4.9 24.5 4.9 Z",
          "type": "path",
          "xref": "x9",
          "yref": "y6"
         },
         {
          "fillcolor": "#de9c38",
          "line": {
           "width": 0
          },
          "path": "M 25.5 7.5 L 25.9 7.5 Q 25.9 7.666 25.783 7.783 Q 25.666 7.9 25.5 7.9 Z",
          "type": "path",
          "xref": "x9",
          "yref": "y6"
         },
         {
          "fillcolor": "#de9c38",
          "line": {
           "width": 0
          },
          "path": "M 25.5 6.5 L 25.9 6.5 Q 25.9 6.666 25.783 6.783 Q 25.666 6.9 25.5 6.9 Z",
          "type": "path",
          "xref": "x9",
          "yref": "y6"
         },
         {
          "fillcolor": "#de9c38",
          "line": {
           "width": 0
          },
          "path": "M 26.5 6.5 L 26.9 6.5 Q 26.9 6.666 26.783 6.783 Q 26.666 6.9 26.5 6.9 Z",
          "type": "path",
          "xref": "x9",
          "yref": "y6"
         },
         {
          "fillcolor": "#de9c38",
          "line": {
           "width": 0
          },
          "path": "M 26.5 1.5 L 26.9 1.5 Q 26.9 1.666 26.783 1.783 Q 26.666 1.9 26.5 1.9 Z",
          "type": "path",
          "xref": "x9",
          "yref": "y6"
         },
         {
          "fillcolor": "#545a8e",
          "line": {
           "width": 0
          },
          "path": "M 27.5 22.5 L 27.1 22.5 Q 27.1 22.334 27.217 22.217 Q 27.334 22.1 27.5 22.1 Z",
          "type": "path",
          "xref": "x9",
          "yref": "y6"
         },
         {
          "fillcolor": "#de9c38",
          "line": {
           "width": 0
          },
          "path": "M 27.5 7.5 L 27.9 7.5 Q 27.9 7.666 27.783 7.783 Q 27.666 7.9 27.5 7.9 Z",
          "type": "path",
          "xref": "x9",
          "yref": "y6"
         },
         {
          "fillcolor": "#de9c38",
          "line": {
           "width": 0
          },
          "path": "M 28.5 25.5 L 28.9 25.5 Q 28.9 25.666 28.783 25.783 Q 28.666 25.9 28.5 25.9 Z",
          "type": "path",
          "xref": "x9",
          "yref": "y6"
         },
         {
          "fillcolor": "#de9c38",
          "line": {
           "width": 0
          },
          "path": "M 29.5 4.5 L 29.9 4.5 Q 29.9 4.666 29.783 4.783 Q 29.666 4.9 29.5 4.9 Z",
          "type": "path",
          "xref": "x9",
          "yref": "y6"
         },
         {
          "fillcolor": "#a64747",
          "line": {
           "width": 0
          },
          "path": "M 30.5 22.5 L 30.5 22.1 Q 30.666 22.1 30.783 22.217 Q 30.9 22.334 30.9 22.5 Z",
          "type": "path",
          "xref": "x9",
          "yref": "y6"
         },
         {
          "fillcolor": "#a64747",
          "line": {
           "width": 0
          },
          "path": "M 30.5 2.5 L 30.5 2.1 Q 30.666 2.1 30.783 2.217 Q 30.9 2.334 30.9 2.5 Z",
          "type": "path",
          "xref": "x9",
          "yref": "y6"
         },
         {
          "fillcolor": "#a64747",
          "line": {
           "width": 0
          },
          "path": "M 30.5 1.5 L 30.5 1.1 Q 30.666 1.1 30.783 1.217 Q 30.9 1.334 30.9 1.5 Z",
          "type": "path",
          "xref": "x9",
          "yref": "y6"
         }
        ],
        "template": {
         "data": {
          "bar": [
           {
            "error_x": {
             "color": "#2a3f5f"
            },
            "error_y": {
             "color": "#2a3f5f"
            },
            "marker": {
             "line": {
              "color": "#E5ECF6",
              "width": 0.5
             },
             "pattern": {
              "fillmode": "overlay",
              "size": 10,
              "solidity": 0.2
             }
            },
            "type": "bar"
           }
          ],
          "barpolar": [
           {
            "marker": {
             "line": {
              "color": "#E5ECF6",
              "width": 0.5
             },
             "pattern": {
              "fillmode": "overlay",
              "size": 10,
              "solidity": 0.2
             }
            },
            "type": "barpolar"
           }
          ],
          "carpet": [
           {
            "aaxis": {
             "endlinecolor": "#2a3f5f",
             "gridcolor": "white",
             "linecolor": "white",
             "minorgridcolor": "white",
             "startlinecolor": "#2a3f5f"
            },
            "baxis": {
             "endlinecolor": "#2a3f5f",
             "gridcolor": "white",
             "linecolor": "white",
             "minorgridcolor": "white",
             "startlinecolor": "#2a3f5f"
            },
            "type": "carpet"
           }
          ],
          "choropleth": [
           {
            "colorbar": {
             "outlinewidth": 0,
             "ticks": ""
            },
            "type": "choropleth"
           }
          ],
          "contour": [
           {
            "colorbar": {
             "outlinewidth": 0,
             "ticks": ""
            },
            "colorscale": [
             [
              0,
              "#0d0887"
             ],
             [
              0.1111111111111111,
              "#46039f"
             ],
             [
              0.2222222222222222,
              "#7201a8"
             ],
             [
              0.3333333333333333,
              "#9c179e"
             ],
             [
              0.4444444444444444,
              "#bd3786"
             ],
             [
              0.5555555555555556,
              "#d8576b"
             ],
             [
              0.6666666666666666,
              "#ed7953"
             ],
             [
              0.7777777777777778,
              "#fb9f3a"
             ],
             [
              0.8888888888888888,
              "#fdca26"
             ],
             [
              1,
              "#f0f921"
             ]
            ],
            "type": "contour"
           }
          ],
          "contourcarpet": [
           {
            "colorbar": {
             "outlinewidth": 0,
             "ticks": ""
            },
            "type": "contourcarpet"
           }
          ],
          "heatmap": [
           {
            "colorbar": {
             "outlinewidth": 0,
             "ticks": ""
            },
            "colorscale": [
             [
              0,
              "#0d0887"
             ],
             [
              0.1111111111111111,
              "#46039f"
             ],
             [
              0.2222222222222222,
              "#7201a8"
             ],
             [
              0.3333333333333333,
              "#9c179e"
             ],
             [
              0.4444444444444444,
              "#bd3786"
             ],
             [
              0.5555555555555556,
              "#d8576b"
             ],
             [
              0.6666666666666666,
              "#ed7953"
             ],
             [
              0.7777777777777778,
              "#fb9f3a"
             ],
             [
              0.8888888888888888,
              "#fdca26"
             ],
             [
              1,
              "#f0f921"
             ]
            ],
            "type": "heatmap"
           }
          ],
          "heatmapgl": [
           {
            "colorbar": {
             "outlinewidth": 0,
             "ticks": ""
            },
            "colorscale": [
             [
              0,
              "#0d0887"
             ],
             [
              0.1111111111111111,
              "#46039f"
             ],
             [
              0.2222222222222222,
              "#7201a8"
             ],
             [
              0.3333333333333333,
              "#9c179e"
             ],
             [
              0.4444444444444444,
              "#bd3786"
             ],
             [
              0.5555555555555556,
              "#d8576b"
             ],
             [
              0.6666666666666666,
              "#ed7953"
             ],
             [
              0.7777777777777778,
              "#fb9f3a"
             ],
             [
              0.8888888888888888,
              "#fdca26"
             ],
             [
              1,
              "#f0f921"
             ]
            ],
            "type": "heatmapgl"
           }
          ],
          "histogram": [
           {
            "marker": {
             "pattern": {
              "fillmode": "overlay",
              "size": 10,
              "solidity": 0.2
             }
            },
            "type": "histogram"
           }
          ],
          "histogram2d": [
           {
            "colorbar": {
             "outlinewidth": 0,
             "ticks": ""
            },
            "colorscale": [
             [
              0,
              "#0d0887"
             ],
             [
              0.1111111111111111,
              "#46039f"
             ],
             [
              0.2222222222222222,
              "#7201a8"
             ],
             [
              0.3333333333333333,
              "#9c179e"
             ],
             [
              0.4444444444444444,
              "#bd3786"
             ],
             [
              0.5555555555555556,
              "#d8576b"
             ],
             [
              0.6666666666666666,
              "#ed7953"
             ],
             [
              0.7777777777777778,
              "#fb9f3a"
             ],
             [
              0.8888888888888888,
              "#fdca26"
             ],
             [
              1,
              "#f0f921"
             ]
            ],
            "type": "histogram2d"
           }
          ],
          "histogram2dcontour": [
           {
            "colorbar": {
             "outlinewidth": 0,
             "ticks": ""
            },
            "colorscale": [
             [
              0,
              "#0d0887"
             ],
             [
              0.1111111111111111,
              "#46039f"
             ],
             [
              0.2222222222222222,
              "#7201a8"
             ],
             [
              0.3333333333333333,
              "#9c179e"
             ],
             [
              0.4444444444444444,
              "#bd3786"
             ],
             [
              0.5555555555555556,
              "#d8576b"
             ],
             [
              0.6666666666666666,
              "#ed7953"
             ],
             [
              0.7777777777777778,
              "#fb9f3a"
             ],
             [
              0.8888888888888888,
              "#fdca26"
             ],
             [
              1,
              "#f0f921"
             ]
            ],
            "type": "histogram2dcontour"
           }
          ],
          "mesh3d": [
           {
            "colorbar": {
             "outlinewidth": 0,
             "ticks": ""
            },
            "type": "mesh3d"
           }
          ],
          "parcoords": [
           {
            "line": {
             "colorbar": {
              "outlinewidth": 0,
              "ticks": ""
             }
            },
            "type": "parcoords"
           }
          ],
          "pie": [
           {
            "automargin": true,
            "type": "pie"
           }
          ],
          "scatter": [
           {
            "fillpattern": {
             "fillmode": "overlay",
             "size": 10,
             "solidity": 0.2
            },
            "type": "scatter"
           }
          ],
          "scatter3d": [
           {
            "line": {
             "colorbar": {
              "outlinewidth": 0,
              "ticks": ""
             }
            },
            "marker": {
             "colorbar": {
              "outlinewidth": 0,
              "ticks": ""
             }
            },
            "type": "scatter3d"
           }
          ],
          "scattercarpet": [
           {
            "marker": {
             "colorbar": {
              "outlinewidth": 0,
              "ticks": ""
             }
            },
            "type": "scattercarpet"
           }
          ],
          "scattergeo": [
           {
            "marker": {
             "colorbar": {
              "outlinewidth": 0,
              "ticks": ""
             }
            },
            "type": "scattergeo"
           }
          ],
          "scattergl": [
           {
            "marker": {
             "colorbar": {
              "outlinewidth": 0,
              "ticks": ""
             }
            },
            "type": "scattergl"
           }
          ],
          "scattermapbox": [
           {
            "marker": {
             "colorbar": {
              "outlinewidth": 0,
              "ticks": ""
             }
            },
            "type": "scattermapbox"
           }
          ],
          "scatterpolar": [
           {
            "marker": {
             "colorbar": {
              "outlinewidth": 0,
              "ticks": ""
             }
            },
            "type": "scatterpolar"
           }
          ],
          "scatterpolargl": [
           {
            "marker": {
             "colorbar": {
              "outlinewidth": 0,
              "ticks": ""
             }
            },
            "type": "scatterpolargl"
           }
          ],
          "scatterternary": [
           {
            "marker": {
             "colorbar": {
              "outlinewidth": 0,
              "ticks": ""
             }
            },
            "type": "scatterternary"
           }
          ],
          "surface": [
           {
            "colorbar": {
             "outlinewidth": 0,
             "ticks": ""
            },
            "colorscale": [
             [
              0,
              "#0d0887"
             ],
             [
              0.1111111111111111,
              "#46039f"
             ],
             [
              0.2222222222222222,
              "#7201a8"
             ],
             [
              0.3333333333333333,
              "#9c179e"
             ],
             [
              0.4444444444444444,
              "#bd3786"
             ],
             [
              0.5555555555555556,
              "#d8576b"
             ],
             [
              0.6666666666666666,
              "#ed7953"
             ],
             [
              0.7777777777777778,
              "#fb9f3a"
             ],
             [
              0.8888888888888888,
              "#fdca26"
             ],
             [
              1,
              "#f0f921"
             ]
            ],
            "type": "surface"
           }
          ],
          "table": [
           {
            "cells": {
             "fill": {
              "color": "#EBF0F8"
             },
             "line": {
              "color": "white"
             }
            },
            "header": {
             "fill": {
              "color": "#C8D4E3"
             },
             "line": {
              "color": "white"
             }
            },
            "type": "table"
           }
          ]
         },
         "layout": {
          "annotationdefaults": {
           "arrowcolor": "#2a3f5f",
           "arrowhead": 0,
           "arrowwidth": 1
          },
          "autotypenumbers": "strict",
          "coloraxis": {
           "colorbar": {
            "outlinewidth": 0,
            "ticks": ""
           }
          },
          "colorscale": {
           "diverging": [
            [
             0,
             "#8e0152"
            ],
            [
             0.1,
             "#c51b7d"
            ],
            [
             0.2,
             "#de77ae"
            ],
            [
             0.3,
             "#f1b6da"
            ],
            [
             0.4,
             "#fde0ef"
            ],
            [
             0.5,
             "#f7f7f7"
            ],
            [
             0.6,
             "#e6f5d0"
            ],
            [
             0.7,
             "#b8e186"
            ],
            [
             0.8,
             "#7fbc41"
            ],
            [
             0.9,
             "#4d9221"
            ],
            [
             1,
             "#276419"
            ]
           ],
           "sequential": [
            [
             0,
             "#0d0887"
            ],
            [
             0.1111111111111111,
             "#46039f"
            ],
            [
             0.2222222222222222,
             "#7201a8"
            ],
            [
             0.3333333333333333,
             "#9c179e"
            ],
            [
             0.4444444444444444,
             "#bd3786"
            ],
            [
             0.5555555555555556,
             "#d8576b"
            ],
            [
             0.6666666666666666,
             "#ed7953"
            ],
            [
             0.7777777777777778,
             "#fb9f3a"
            ],
            [
             0.8888888888888888,
             "#fdca26"
            ],
            [
             1,
             "#f0f921"
            ]
           ],
           "sequentialminus": [
            [
             0,
             "#0d0887"
            ],
            [
             0.1111111111111111,
             "#46039f"
            ],
            [
             0.2222222222222222,
             "#7201a8"
            ],
            [
             0.3333333333333333,
             "#9c179e"
            ],
            [
             0.4444444444444444,
             "#bd3786"
            ],
            [
             0.5555555555555556,
             "#d8576b"
            ],
            [
             0.6666666666666666,
             "#ed7953"
            ],
            [
             0.7777777777777778,
             "#fb9f3a"
            ],
            [
             0.8888888888888888,
             "#fdca26"
            ],
            [
             1,
             "#f0f921"
            ]
           ]
          },
          "colorway": [
           "#636efa",
           "#EF553B",
           "#00cc96",
           "#ab63fa",
           "#FFA15A",
           "#19d3f3",
           "#FF6692",
           "#B6E880",
           "#FF97FF",
           "#FECB52"
          ],
          "font": {
           "color": "#2a3f5f"
          },
          "geo": {
           "bgcolor": "white",
           "lakecolor": "white",
           "landcolor": "#E5ECF6",
           "showlakes": true,
           "showland": true,
           "subunitcolor": "white"
          },
          "hoverlabel": {
           "align": "left"
          },
          "hovermode": "closest",
          "mapbox": {
           "style": "light"
          },
          "paper_bgcolor": "white",
          "plot_bgcolor": "#E5ECF6",
          "polar": {
           "angularaxis": {
            "gridcolor": "white",
            "linecolor": "white",
            "ticks": ""
           },
           "bgcolor": "#E5ECF6",
           "radialaxis": {
            "gridcolor": "white",
            "linecolor": "white",
            "ticks": ""
           }
          },
          "scene": {
           "xaxis": {
            "backgroundcolor": "#E5ECF6",
            "gridcolor": "white",
            "gridwidth": 2,
            "linecolor": "white",
            "showbackground": true,
            "ticks": "",
            "zerolinecolor": "white"
           },
           "yaxis": {
            "backgroundcolor": "#E5ECF6",
            "gridcolor": "white",
            "gridwidth": 2,
            "linecolor": "white",
            "showbackground": true,
            "ticks": "",
            "zerolinecolor": "white"
           },
           "zaxis": {
            "backgroundcolor": "#E5ECF6",
            "gridcolor": "white",
            "gridwidth": 2,
            "linecolor": "white",
            "showbackground": true,
            "ticks": "",
            "zerolinecolor": "white"
           }
          },
          "shapedefaults": {
           "line": {
            "color": "#2a3f5f"
           }
          },
          "ternary": {
           "aaxis": {
            "gridcolor": "white",
            "linecolor": "white",
            "ticks": ""
           },
           "baxis": {
            "gridcolor": "white",
            "linecolor": "white",
            "ticks": ""
           },
           "bgcolor": "#E5ECF6",
           "caxis": {
            "gridcolor": "white",
            "linecolor": "white",
            "ticks": ""
           }
          },
          "title": {
           "x": 0.05
          },
          "xaxis": {
           "automargin": true,
           "gridcolor": "white",
           "linecolor": "white",
           "ticks": "",
           "title": {
            "standoff": 15
           },
           "zerolinecolor": "white",
           "zerolinewidth": 2
          },
          "yaxis": {
           "automargin": true,
           "gridcolor": "white",
           "linecolor": "white",
           "ticks": "",
           "title": {
            "standoff": 15
           },
           "zerolinecolor": "white",
           "zerolinewidth": 2
          }
         }
        },
        "width": 1061.9180000000001,
        "xaxis": {
         "anchor": "y",
         "automargin": false,
         "autorange": false,
         "domain": [
          0,
          0.01883384592784
         ],
         "matches": "x6",
         "range": [
          -0.5,
          0.5
         ],
         "scaleanchor": "y",
         "scaleratio": 1,
         "showticklabels": false
        },
        "xaxis10": {
         "anchor": "y10",
         "automargin": false,
         "domain": [
          0.9065219725063516,
          0.9999999999999999
         ],
         "range": [
          0,
          4.9633
         ],
         "scaleanchor": "y",
         "showgrid": false,
         "showline": false,
         "showticklabels": false,
         "zeroline": false
        },
        "xaxis2": {
         "anchor": "y2",
         "automargin": false,
         "autorange": false,
         "domain": [
          0.01883384592784,
          0.2996841564037901
         ],
         "matches": "x7",
         "range": [
          -7.456,
          7.456
         ],
         "scaleanchor": "y",
         "scaleratio": 1,
         "showticklabels": false
        },
        "xaxis3": {
         "anchor": "y3",
         "automargin": false,
         "autorange": false,
         "domain": [
          0.2996841564037901,
          0.3226727487433116
         ],
         "matches": "x8",
         "range": [
          -0.6103,
          0.6103
         ],
         "scaleanchor": "y",
         "scaleratio": 1,
         "showticklabels": false
        },
        "xaxis4": {
         "anchor": "y4",
         "automargin": false,
         "domain": [
          0.3226727487433116,
          0.9065219725063516
         ],
         "matches": "x9",
         "range": [
          0,
          31
         ],
         "scaleanchor": "y",
         "showgrid": false,
         "showline": false,
         "showticklabels": false,
         "zeroline": false
        },
        "xaxis5": {
         "anchor": "y5",
         "automargin": false,
         "autorange": false,
         "domain": [
          0.9065219725063516,
          0.9999999999999999
         ],
         "matches": "x10",
         "range": [
          0,
          4.9633
         ],
         "scaleanchor": "y",
         "scaleratio": 1,
         "showticklabels": false
        },
        "xaxis6": {
         "anchor": "y6",
         "automargin": false,
         "autorange": false,
         "domain": [
          0,
          0.01883384592784
         ],
         "range": [
          -0.5,
          0.5
         ],
         "scaleanchor": "y",
         "scaleratio": 1,
         "showgrid": false,
         "showline": false,
         "showticklabels": false,
         "zeroline": false
        },
        "xaxis7": {
         "anchor": "y7",
         "automargin": false,
         "domain": [
          0.01883384592784,
          0.2996841564037901
         ],
         "range": [
          -7.456,
          7.456
         ],
         "scaleanchor": "y",
         "scaleratio": 1,
         "showgrid": false,
         "showline": false,
         "showticklabels": false,
         "zeroline": false
        },
        "xaxis8": {
         "anchor": "y8",
         "automargin": false,
         "domain": [
          0.2996841564037901,
          0.3226727487433116
         ],
         "range": [
          -0.6103,
          0.6103
         ],
         "scaleanchor": "y",
         "scaleratio": 1,
         "showgrid": false,
         "showline": false,
         "showticklabels": false,
         "zeroline": false
        },
        "xaxis9": {
         "anchor": "y9",
         "automargin": false,
         "domain": [
          0.3226727487433116,
          0.9065219725063516
         ],
         "range": [
          0,
          31
         ],
         "scaleanchor": "y",
         "scaleratio": 1,
         "showgrid": false,
         "showline": false,
         "showticklabels": false,
         "zeroline": false
        },
        "yaxis": {
         "anchor": "x",
         "automargin": false,
         "autorange": false,
         "domain": [
          0.9681267683928471,
          1
         ],
         "range": [
          -0.5103,
          0.5103
         ],
         "showticklabels": false
        },
        "yaxis10": {
         "anchor": "x10",
         "automargin": false,
         "autorange": false,
         "domain": [
          0,
          0.9681267683928471
         ],
         "matches": "y6",
         "range": [
          0,
          31
         ],
         "scaleratio": 1,
         "showgrid": false,
         "showline": false,
         "showticklabels": false,
         "zeroline": false
        },
        "yaxis2": {
         "anchor": "x2",
         "automargin": false,
         "autorange": false,
         "domain": [
          0.9681267683928471,
          1
         ],
         "matches": "y",
         "range": [
          -0.5103,
          0.5103
         ],
         "showticklabels": false
        },
        "yaxis3": {
         "anchor": "x3",
         "automargin": false,
         "autorange": false,
         "domain": [
          0.9681267683928471,
          1
         ],
         "matches": "y",
         "range": [
          -0.5103,
          0.5103
         ],
         "showticklabels": false
        },
        "yaxis4": {
         "anchor": "x4",
         "automargin": false,
         "autorange": false,
         "domain": [
          0.9681267683928471,
          1
         ],
         "matches": "y",
         "range": [
          -0.5103,
          0.5103
         ],
         "scaleanchor": "x",
         "scaleratio": 1,
         "showgrid": false,
         "showline": false,
         "showticklabels": false,
         "zeroline": false
        },
        "yaxis5": {
         "anchor": "x5",
         "automargin": false,
         "autorange": false,
         "domain": [
          0.9681267683928471,
          1
         ],
         "matches": "y",
         "range": [
          -0.5103,
          0.5103
         ],
         "showticklabels": false
        },
        "yaxis6": {
         "anchor": "x6",
         "automargin": false,
         "autorange": false,
         "domain": [
          0,
          0.9681267683928471
         ],
         "range": [
          0,
          31
         ],
         "scaleanchor": "x",
         "scaleratio": 1,
         "showgrid": true,
         "showline": false,
         "showticklabels": false,
         "zeroline": false
        },
        "yaxis7": {
         "anchor": "x7",
         "automargin": false,
         "autorange": false,
         "domain": [
          0,
          0.9681267683928471
         ],
         "matches": "y6",
         "range": [
          0,
          31
         ],
         "scaleratio": 1,
         "showgrid": false,
         "showline": false,
         "showticklabels": false,
         "zeroline": false
        },
        "yaxis8": {
         "anchor": "x8",
         "automargin": false,
         "autorange": false,
         "domain": [
          0,
          0.9681267683928471
         ],
         "matches": "y6",
         "range": [
          0,
          31
         ],
         "scaleratio": 1,
         "showgrid": false,
         "showline": false,
         "showticklabels": false,
         "zeroline": false
        },
        "yaxis9": {
         "anchor": "x9",
         "automargin": false,
         "autorange": false,
         "domain": [
          0,
          0.9681267683928471
         ],
         "matches": "y6",
         "range": [
          0,
          31
         ],
         "scaleratio": 1,
         "showgrid": false,
         "showline": false,
         "showticklabels": false,
         "zeroline": false
        }
       }
      }
     },
     "metadata": {},
     "output_type": "display_data"
    }
   ],
   "source": [
    "fig = plot.mdm(\n",
    "    leafs=g.leafs,\n",
    "    edges=g.edges,\n",
    "    style=plot.Style(\n",
    "        piemap=dict(\n",
    "            fields=[\n",
    "                \"mechanical\",\n",
    "                \"electrical\",\n",
    "                \"information\",\n",
    "                \"hydraulic\",\n",
    "            ],\n",
    "        ),\n",
    "        palettes=dict(\n",
    "            fields={\n",
    "                \"mechanical\": {\"categorical\": \"#de9c38\"},\n",
    "                \"electrical\": {\"categorical\": \"#a64747\"},\n",
    "                \"information\": {\"categorical\": \"#545a8e\"},\n",
    "                \"hydraulic\": {\"categorical\": \"#389dfc\"},\n",
    "            }\n",
    "        ),\n",
    "    ),\n",
    ")\n",
    "fig.show(config={\"displayModeBar\": True,\n",
    "                \"displaylogo\": False,\n",
    "                'modeBarButtonsToRemove': [\n",
    "                    'zoom2d',\n",
    "                    'zoomIn2d',\n",
    "                    'zoomOut2d',\n",
    "                    'resetScale2d',\n",
    "                    'toggleSpikelines',\n",
    "                    'pan2d',\n",
    "                    'autoScale2d',\n",
    "                    'hoverClosestCartesian',\n",
    "                    'hoverCompareCartesian']})"
   ]
  },
  {
   "cell_type": "code",
   "execution_count": null,
   "metadata": {},
   "outputs": [],
   "source": [
    "fig = plot.mdm(\n",
    "    leafs=g.leafs,\n",
    "    edges=g.edges,\n",
    "    style=plot.Style(\n",
    "        piemap=dict(\n",
    "            fields=[\n",
    "                \"mechanical\",\n",
    "                \"electrical\",\n",
    "                \"information\",\n",
    "                \"hydraulic\",\n",
    "            ],\n",
    "        ),\n",
    "        palettes=dict(\n",
    "            fields={\n",
    "                \"mechanical\": {\"categorical\": \"#de9c38\"},\n",
    "                \"electrical\": {\"categorical\": \"#a64747\"},\n",
    "                \"information\": {\"categorical\": \"#545a8e\"},\n",
    "                \"hydraulic\": {\"categorical\": \"#389dfc\"},\n",
    "            }\n",
    "        ),\n",
    "    ),\n",
    ")\n",
    "fig.show(config={\"displayModeBar\": True,\n",
    "                \"displaylogo\": False,\n",
    "                'modeBarButtonsToRemove': [\n",
    "                    'zoom2d',\n",
    "                    'zoomIn2d',\n",
    "                    'zoomOut2d',\n",
    "                    'resetScale2d',\n",
    "                    'toggleSpikelines',\n",
    "                    'pan2d',\n",
    "                    'autoScale2d',\n",
    "                    'hoverClosestCartesian',\n",
    "                    'hoverCompareCartesian']})"
   ]
  }
 ],
 "metadata": {
  "kernelspec": {
   "display_name": "Python 3",
   "language": "python",
   "name": "python3"
  },
  "language_info": {
   "codemirror_mode": {
    "name": "ipython",
    "version": 3
   },
   "file_extension": ".py",
   "mimetype": "text/x-python",
   "name": "python",
   "nbconvert_exporter": "python",
   "pygments_lexer": "ipython3",
   "version": "3.11.5"
  },
  "orig_nbformat": 4
 },
 "nbformat": 4,
 "nbformat_minor": 2
}
