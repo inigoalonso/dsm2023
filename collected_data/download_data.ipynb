{
 "cells": [
  {
   "cell_type": "code",
   "execution_count": 1,
   "metadata": {},
   "outputs": [],
   "source": [
    "import datetime\n",
    "import json\n",
    "from google.cloud import firestore\n",
    "from google.oauth2 import service_account"
   ]
  },
  {
   "cell_type": "code",
   "execution_count": 2,
   "metadata": {},
   "outputs": [],
   "source": [
    "def authenticate_to_firestore():\n",
    "    \"\"\"Authenticates to Firestore and returns a client.\"\"\"\n",
    "    # read the '../firestore-key.json' file\n",
    "    key_dict = json.load(open('../firestore-key.json'))\n",
    "    creds = service_account.Credentials.from_service_account_info(key_dict)\n",
    "    db = firestore.Client(credentials=creds, project=\"dsm2023isw\")\n",
    "    return db\n",
    "\n",
    "db = authenticate_to_firestore()"
   ]
  },
  {
   "cell_type": "code",
   "execution_count": 3,
   "metadata": {},
   "outputs": [],
   "source": [
    "docs_all = db.collection(\"session_states\").stream()"
   ]
  },
  {
   "cell_type": "code",
   "execution_count": 9,
   "metadata": {},
   "outputs": [],
   "source": [
    "# docs = (\n",
    "#     db.collection(\"session_states\")\n",
    "#     #.where(filter=FieldFilter(\"capital\", \"==\", True))\n",
    "#     .stream()\n",
    "# )"
   ]
  },
  {
   "cell_type": "code",
   "execution_count": 4,
   "metadata": {},
   "outputs": [
    {
     "name": "stdout",
     "output_type": "stream",
     "text": [
      "3635\n"
     ]
    }
   ],
   "source": [
    "docs_list = []\n",
    "for doc in docs_all:\n",
    "    # print(f\"{doc.id} => {doc.to_dict()}\")\n",
    "    # my_dict = { el.id: el.to_dict() for el in doc }\n",
    "    docs_list.append(doc.to_dict())\n",
    "\n",
    "print(len(docs_list))\n",
    "\n",
    "# Save the data to a json file\n",
    "with open(\"session_states.json\", \"w\") as f:\n",
    "    json.dump(docs_list, f)"
   ]
  },
  {
   "cell_type": "code",
   "execution_count": 5,
   "metadata": {},
   "outputs": [
    {
     "name": "stdout",
     "output_type": "stream",
     "text": [
      "471\n"
     ]
    }
   ],
   "source": [
    "# find all the unique session_id in the session_states.json file\n",
    "unique_session_ids = []\n",
    "for i in range(len(docs_list)):\n",
    "    #print(docs_list[i]['session_id'])\n",
    "    if docs_list[i]['session_id'] not in unique_session_ids:\n",
    "        unique_session_ids.append(docs_list[i]['session_id'])\n",
    "\n",
    "print(len(unique_session_ids))\n",
    "\n",
    "\n",
    "# count the number of elements in the json file that share the same session_id\n",
    "\n"
   ]
  },
  {
   "cell_type": "markdown",
   "metadata": {},
   "source": [
    "Need to filter out:\n",
    "Has timestamp earlier than 2023-10-04 07:00\n",
    "Has timestamp later than 2023-10-04 14:15/15:00\n",
    "Has group == \"Select\" and only one entry\n"
   ]
  },
  {
   "cell_type": "code",
   "execution_count": 6,
   "metadata": {},
   "outputs": [
    {
     "name": "stdout",
     "output_type": "stream",
     "text": [
      "2870\n"
     ]
    }
   ],
   "source": [
    "# Filter the data to only include the data during the workshop\n",
    "during_ws = []\n",
    "for i in range(len(docs_list)):\n",
    "    # str date as datetime date\n",
    "    timestamp = datetime.datetime.strptime(docs_list[i]['timestamp'], '%Y-%m-%d %H:%M:%S')\n",
    "    ws_start = datetime.datetime(2023, 10, 4, 7, 0, 0)\n",
    "    ws_end = datetime.datetime(2023, 10, 4, 15, 0, 0)\n",
    "    #print(docs_list[i]['session_id'])\n",
    "    if (timestamp > ws_start and timestamp < ws_end):\n",
    "        during_ws.append(docs_list[i])\n",
    "print(len(during_ws))"
   ]
  },
  {
   "cell_type": "code",
   "execution_count": 7,
   "metadata": {},
   "outputs": [
    {
     "name": "stdout",
     "output_type": "stream",
     "text": [
      "219\n"
     ]
    }
   ],
   "source": [
    "# Filter the data to only include the data after the workshop\n",
    "after_ws = []\n",
    "for i in range(len(docs_list)):\n",
    "    # str date as datetime date\n",
    "    timestamp = datetime.datetime.strptime(docs_list[i]['timestamp'], '%Y-%m-%d %H:%M:%S')\n",
    "    ws_start = datetime.datetime(2023, 10, 4, 7, 0, 0)\n",
    "    ws_end = datetime.datetime(2023, 10, 4, 15, 0, 0)\n",
    "    #print(docs_list[i]['session_id'])\n",
    "    if (timestamp > ws_end):\n",
    "        after_ws.append(docs_list[i])\n",
    "print(len(after_ws))"
   ]
  },
  {
   "cell_type": "code",
   "execution_count": 16,
   "metadata": {},
   "outputs": [],
   "source": [
    "# count the number of elements in the json file that share the same session_id\n",
    "\n",
    "for i in range(len(unique_session_ids)):\n",
    "    count = 0\n",
    "    for j in range(len(docs_list)):\n",
    "        if docs_list[j]['session_id'] == unique_session_ids[i]:\n",
    "            count += 1\n",
    "    if count == 0:\n",
    "        print(f\"Session_id: {unique_session_ids[i]} has {count} elements\")"
   ]
  },
  {
   "cell_type": "code",
   "execution_count": 17,
   "metadata": {},
   "outputs": [
    {
     "name": "stdout",
     "output_type": "stream",
     "text": [
      "328\n"
     ]
    }
   ],
   "source": [
    "group_select = []\n",
    "for i in range(len(docs_list)):\n",
    "    if docs_list[i]['group'] == 'Select':\n",
    "        group_select.append(docs_list[i])\n",
    "\n",
    "print(len(group_select))"
   ]
  },
  {
   "cell_type": "code",
   "execution_count": null,
   "metadata": {},
   "outputs": [],
   "source": []
  }
 ],
 "metadata": {
  "kernelspec": {
   "display_name": "Python 3",
   "language": "python",
   "name": "python3"
  },
  "language_info": {
   "codemirror_mode": {
    "name": "ipython",
    "version": 3
   },
   "file_extension": ".py",
   "mimetype": "text/x-python",
   "name": "python",
   "nbconvert_exporter": "python",
   "pygments_lexer": "ipython3",
   "version": "3.11.5"
  },
  "orig_nbformat": 4
 },
 "nbformat": 4,
 "nbformat_minor": 2
}
